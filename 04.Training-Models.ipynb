{
 "cells": [
  {
   "cell_type": "markdown",
   "metadata": {},
   "source": [
    "# Chapter 4. Training Models\n",
    "\n",
    "In many situations, we need to understand the implementation of specific algorithms. Understanding the underlying logic of machine learning algorithms will help us to:\n",
    "- Pick the right one for the task\n",
    "- Pick a good initial set of hyper-parameters\n",
    "- Pick a good training algorithm\n",
    "\n",
    "Lastly, most of the topics discussed in this chapter will be essential for understanding neural networks.\n",
    "\n",
    "In this chapter, we will start by looking at linear regression training from two different angles:\n",
    "- Using a direct \"closed-form\" analytical method to get the optimal parameters for the linear model.\n",
    "- Using an interative optimization method called gradient descent.\n",
    "\n",
    "GD gradually tweaks the model parameters until it converges to the same set of parameters found by method 1. We will take a look at multiple types of gradient descent: stochastic GD, batch GD, Mini-batch GD.\n",
    "\n",
    "Next we will look at polynomial regression, or models that can fit non-linear datasets. Then we will look at several regularization techniques that will help up reduce the overfitting typically found in polynomial models.\n",
    "\n",
    "Finally, we will look at two popular models used for classification tasks: Logistic regression & softmax regression."
   ]
  },
  {
   "cell_type": "markdown",
   "metadata": {},
   "source": [
    "## Linear Regression\n",
    "\n",
    "In chapter I, we looked at a simple model for *Life Satisfaction*:\n",
    "\n",
    "$$life\\_satisfaction = \\theta_{0} + \\theta_{1} \\times GDP\\_per\\_capita$$\n",
    "\n",
    "This model is just a linear function of `GDP_per_Capita` with $\\theta_{0}$ and $\\theta_{1}$ as parameters. A linear model makes a prediction by simply computing the weighted sum of the input features + a constant called a bias term. More generally:\n",
    "\n",
    "$$\\hat{y} = \\theta_{0} + \\theta_{1}x_{1} + \\theta_{2}x_{2} + \\dots + \\theta_{n}x_{n}$$\n",
    "\n",
    "This can be written much more consicely using its vectorized form:\n",
    "\n",
    "$$\n",
    "\\hat{y}=h_{\\theta}(x)=\\theta \\cdot x \\space | \\space\n",
    "\\theta=\\begin{bmatrix} \\theta_{0}  \\\\ \\theta_{1}  \\\\ \\vdots  \\\\ \\theta_{n} \\end{bmatrix},\n",
    "x=\\begin{bmatrix} 1 \\\\ x_{1} \\\\ \\vdots \\\\ x_{n} \\end{bmatrix}\n",
    "$$\n",
    "\n",
    "*Note:* $\\cdot$ in $\\theta \\cdot x$ represent the dot product & not vector multiplication.\n",
    "\n",
    "$h_{\\theta}(x)$ is the hypothesis function using parameters $\\theta$.\n",
    "\n",
    "In ML, vectors are often represented as column arrays, because $\\theta$ and $x$ are both column vectors, we can write the prediction as follows:\n",
    "\n",
    "$$\\hat{y} = \\theta^{T} x$$\n",
    "\n",
    "Now, $\\hat{y}$ is a single-cell matrix resulting from matrix multiplication.\n",
    "\n",
    "In this book, we will use this notation to avoid switching between dot products and matrix multiplications.\n",
    "\n",
    "Training a model means adjusting its parameters so it best fits the data. For us to succeed, we first need to describe what do we mean by \"best fitting the data\". For this reason, we pick the mean sqaured error ($MSE$) as measure of the model performance:\n",
    "\n",
    "$$MSE(X,h_{\\theta}) = \\frac{1}{m} \\sum_{i=1}^{m} (\\theta^{T}x^{(i)} - y^{(i)})^2$$\n",
    "\n",
    "Where $X$ is the training data set represented as $X=\\{(x_{1},y_{1}), (x_{2},y_{2}), \\dots, (x_{m},y_{m})\\}$"
   ]
  },
  {
   "cell_type": "markdown",
   "metadata": {},
   "source": [
    "### The Normal Equation\n",
    "\n",
    "To find $\\theta$ that minimizes the cost/loss function $MSE(\\theta)$, there is a closed form solution. In other words, a mathematical equation that gives the result directly, and it's called the normal equation.\n",
    "\n",
    "$$\\hat{\\theta}=(X^{T}X)^{-1}X^{T}y$$\n",
    "\n",
    "$\\hat{\\theta}$ is the value of $\\theta$ that minimizes the cost function $MSE(\\theta)$.\n",
    "\n",
    "Let's generate some linear data to test this equation:"
   ]
  },
  {
   "cell_type": "code",
   "execution_count": 1,
   "metadata": {},
   "outputs": [],
   "source": [
    "import numpy as np\n",
    "import matplotlib.pyplot as plt\n",
    "plt.style.use('default')"
   ]
  },
  {
   "cell_type": "code",
   "execution_count": 2,
   "metadata": {},
   "outputs": [],
   "source": [
    "X = 2 * np.random.rand(100, 1)\n",
    "y = 4 + 3 * X + np.random.randn(100, 1)"
   ]
  },
  {
   "cell_type": "code",
   "execution_count": 3,
   "metadata": {},
   "outputs": [
    {
     "data": {
      "image/png": "[encoded data removed]",
      "text/plain": [
       "<Figure size 432x288 with 1 Axes>"
      ]
     },
     "metadata": {
      "needs_background": "light"
     },
     "output_type": "display_data"
    }
   ],
   "source": [
    "plt.scatter(x=X, y=y)\n",
    "plt.xlabel('X')\n",
    "plt.ylabel('y')\n",
    "plt.show()"
   ]
  },
  {
   "cell_type": "markdown",
   "metadata": {},
   "source": [
    "Now let's compute $\\hat{\\theta}$ using the normal equation:"
   ]
  },
  {
   "cell_type": "code",
   "execution_count": 4,
   "metadata": {},
   "outputs": [],
   "source": [
    "X_b = np.c_[np.ones_like(X), X]"
   ]
  },
  {
   "cell_type": "code",
   "execution_count": 5,
   "metadata": {},
   "outputs": [
    {
     "data": {
      "text/plain": [
       "array([[4.08702589],\n",
       "       [2.86790815]])"
      ]
     },
     "execution_count": 5,
     "metadata": {},
     "output_type": "execute_result"
    }
   ],
   "source": [
    "theta_best = np.linalg.inv(X_b.T.dot(X_b)).dot(X_b.T).dot(y)\n",
    "theta_best"
   ]
  },
  {
   "cell_type": "markdown",
   "metadata": {},
   "source": [
    "The parameters that we used to generate the data (with some noise) are $\\theta_{0}=4$ and $\\theta_{1}=3$. The noise was responsible for not making it possible to recover the initial parameters $\\theta_{0}$ & $\\theta_{1}$.\n",
    "\n",
    "Now we can make predictions using our optimal parameters:"
   ]
  },
  {
   "cell_type": "code",
   "execution_count": 6,
   "metadata": {},
   "outputs": [
    {
     "data": {
      "text/plain": [
       "(2, 2)"
      ]
     },
     "execution_count": 6,
     "metadata": {},
     "output_type": "execute_result"
    }
   ],
   "source": [
    "X_ = np.array([[0], [2]])\n",
    "X_ = np.c_[np.ones_like(X_), X_].T\n",
    "X_.shape"
   ]
  },
  {
   "cell_type": "code",
   "execution_count": 7,
   "metadata": {},
   "outputs": [],
   "source": [
    "y_hat = np.matmul(theta_best.T, X_)"
   ]
  },
  {
   "cell_type": "code",
   "execution_count": 8,
   "metadata": {},
   "outputs": [
    {
     "data": {
      "image/png": "[encoded data removed]",
      "text/plain": [
       "<Figure size 432x288 with 1 Axes>"
      ]
     },
     "metadata": {
      "needs_background": "light"
     },
     "output_type": "display_data"
    }
   ],
   "source": [
    "plt.scatter(x=X, y=y)\n",
    "plt.plot([0,2], y_hat.flatten(), color='red', label='Predictions')\n",
    "plt.xlabel('X')\n",
    "plt.ylabel('y')\n",
    "plt.legend()\n",
    "plt.show()"
   ]
  },
  {
   "cell_type": "markdown",
   "metadata": {},
   "source": [
    "Performing Linear Regression using `scikit-learn` is also simple:"
   ]
  },
  {
   "cell_type": "code",
   "execution_count": 9,
   "metadata": {},
   "outputs": [],
   "source": [
    "from sklearn.linear_model import LinearRegression"
   ]
  },
  {
   "cell_type": "code",
   "execution_count": 10,
   "metadata": {},
   "outputs": [],
   "source": [
    "lin_reg = LinearRegression(n_jobs=-1)"
   ]
  },
  {
   "cell_type": "code",
   "execution_count": 11,
   "metadata": {},
   "outputs": [
    {
     "data": {
      "text/plain": [
       "LinearRegression(copy_X=True, fit_intercept=True, n_jobs=-1, normalize=False)"
      ]
     },
     "execution_count": 11,
     "metadata": {},
     "output_type": "execute_result"
    }
   ],
   "source": [
    "lin_reg.fit(X, y)"
   ]
  },
  {
   "cell_type": "code",
   "execution_count": 12,
   "metadata": {},
   "outputs": [
    {
     "data": {
      "text/plain": [
       "(array([4.08702589]), array([[2.86790815]]))"
      ]
     },
     "execution_count": 12,
     "metadata": {},
     "output_type": "execute_result"
    }
   ],
   "source": [
    "lin_reg.intercept_, lin_reg.coef_"
   ]
  },
  {
   "cell_type": "code",
   "execution_count": 13,
   "metadata": {},
   "outputs": [
    {
     "data": {
      "text/plain": [
       "array([[4.08702589],\n",
       "       [9.82284218]])"
      ]
     },
     "execution_count": 13,
     "metadata": {},
     "output_type": "execute_result"
    }
   ],
   "source": [
    "lin_reg.predict(np.array([[0],[2]]))"
   ]
  },
  {
   "cell_type": "markdown",
   "metadata": {},
   "source": [
    "The `LinearRegression` class is based on `scipy.linalg.lstsq` function which we could call directly:"
   ]
  },
  {
   "cell_type": "code",
   "execution_count": 14,
   "metadata": {},
   "outputs": [],
   "source": [
    "theta_best_svd, residuals, rank, s = np.linalg.lstsq(X_b, y, rcond=1e-6)"
   ]
  },
  {
   "cell_type": "code",
   "execution_count": 15,
   "metadata": {},
   "outputs": [
    {
     "data": {
      "text/plain": [
       "array([[4.08702589],\n",
       "       [2.86790815]])"
      ]
     },
     "execution_count": 15,
     "metadata": {},
     "output_type": "execute_result"
    }
   ],
   "source": [
    "theta_best_svd"
   ]
  },
  {
   "cell_type": "markdown",
   "metadata": {},
   "source": [
    "The function computes $\\hat{\\theta}=X^{+}y$ where $X^{+}$ is the Moore-Penrose inverse, $X^{+}=(X^{T}X)^{-1}X^{T}$. \n",
    "\n",
    "We can compute it directly:"
   ]
  },
  {
   "cell_type": "code",
   "execution_count": 16,
   "metadata": {},
   "outputs": [
    {
     "data": {
      "text/plain": [
       "array([[4.08702589],\n",
       "       [2.86790815]])"
      ]
     },
     "execution_count": 16,
     "metadata": {},
     "output_type": "execute_result"
    }
   ],
   "source": [
    "np.linalg.pinv(X_b).dot(y)"
   ]
  },
  {
   "cell_type": "markdown",
   "metadata": {},
   "source": [
    "The pseudoinverse itself is computed using a **standard matrix vectorization** technique called **Singular Value Decomposition** (SVD). SVD can decompose the training set $X$ into the matrix multiplication of 3 matrices: $U \\space \\Sigma \\space V^{T}$. As a result, we have $X^{+}=V \\Sigma^{+} U^{T}$.\n",
    "\n",
    "To compute the matrix $\\Sigma^{+}$, the algorithm takes $\\Sigma$ and sets to zero all values smaller than an $\\epsilon$, replaces all the non-zero values with their inverse, and finally transposes the resulting matrix.\n",
    "\n",
    "This approach is more efficient than directly computing the normal equation and it handles edge cases nicely.\n",
    "\n",
    "The nomral equation may not work if $X^{T}X$ is not invertible but the pseudoinverse is always defined."
   ]
  },
  {
   "cell_type": "markdown",
   "metadata": {},
   "source": [
    "### Computational Complexity\n",
    "\n",
    "The normal equation computes the inverse of $X^{T}X$, which is an $(n+1) \\times (n+1)$ matrix (where n is the number of features). The computation complexity of inverting such a matrix is typically about $O(n^{2.4})$ to $O(n^{3})$, depending on the implementation. In other words, **if you double the number of features, you will increase the computation time by x5.3 to x8.**\n",
    "\n",
    "Both the normal equation & SVD approaches get very slow with a large number of features (~100,000). On a positive side, both are linear when it comes to the number of instances (or observations) we have in $X$.\n",
    "\n",
    "Once we trained our model using the normal equation or SVD, predictions are exported really fast (with a linear complexity on both instances and features).\n",
    "\n",
    "Now we will look at a completely different way of finding the optimal parameters $\\theta$.\n",
    "\n",
    "It is suitable when we have too many features or instances we can't fit in memory:"
   ]
  },
  {
   "cell_type": "markdown",
   "metadata": {},
   "source": [
    "## Gradient Descent\n",
    "\n",
    "Gradient Descent is a generic optimization algorithm capable of finding solutions to a wide veriety of problems. The general idea behind gradient descent is to tweak a model's parameters iteratively until we converge to an optimal set of parameters $\\hat{\\theta}$ that minimizes the target function.\n",
    "\n",
    "Suppose you are lost in the mountain with dense fog, you can't see anything, you only can feel the ground below your feet. and you want to go home. A good strategy is to move in the direction of the steepest slope. This is exactly what gradient descent does.\n",
    "\n",
    "GD measures the local gradient of the error function with regards to the parameter function $\\theta$ and goes in the direction of descending gradient. **Once the gradient is Zero, we have reached a minimum**.\n",
    "\n",
    "Practically, we start by initializing $\\theta$ with random values (this is called **random initialization**). Then we improve it gradually, taking one baby step at a time. Each step attempting to decrease the cost function, until we converge to a minimum:\n",
    "    \n",
    "<div style=\"text-align:center;\"><img style=\"width: 50%;\" src=\"static/imgs/GD.png\"></div>\n",
    "\n",
    "An important parameter in GD is the size of the step, determined by the *learning rate* hyper-parameter. If the learning rate is too small, the algorithm will take a long time to convert to a minimum, and if the learning rate is too big, the algorithm my jump infinately between intervals or even diverge.\n",
    "\n",
    "Finally, not all cost functions look like nice, regular bowls. There may be holes/ridges/plateaus and all sorts of irregular terrains. The curvatures of most cost functions is challenging. As a result, the initialization of your parameters play an important role, depending on where did we start, we might end up in a place or another:\n",
    "\n",
    "<div style=\"text-align:center;\"><img style=\"width: 50%;\" src=\"static/imgs/Loss_curvature.png\"></div>\n",
    "\n",
    "Fortunately, $MSE$ for Linear regression results in a convex loss function, meaning, It's garanteed that the found minimum is th global minimum of the function (No local minima, just one **global minimum**). It's also a continuous function with a slope that never changes ubruptly (Lipschitz continuious). \n",
    "\n",
    "The Cost function has a shape of a bowl but it can be an elongated bowl without feature scaling (because the dynamic range of each feature's parameter will be different:\n",
    "\n",
    "<div style=\"text-align:center;\"><img style=\"width: 50%;\" src=\"static/imgs/scaling_effect.png\"></div>\n",
    "\n",
    "By not doing feature scaling and by enforcing a constant learning rate for both feature parameters, the algorithm will take longer to reach the global minimum.\n",
    "\n",
    "Warning: When using gradient descent, make sure that all features are scaled.\n",
    "\n",
    "Briefly, when we are training the model, we are effectively **searching** for a parameter set that minimizes the cost function. **It's a search in the model's parameter space**\n",
    "\n",
    "The more parameters the model has, the more dimensions the space has, the harder for us to find the optimal set of parameters."
   ]
  },
  {
   "cell_type": "markdown",
   "metadata": {},
   "source": [
    "### Batch Gradient Descent\n",
    "\n",
    "To implement Gradient Descent, we need to compute the gradient of the cost function with regards to each model parameter $\\theta_{j}$. This is called a partial derivative.\n",
    "\n",
    "Let's compute the partial derivative of our previously defined cost function $MSE$:\n",
    "\n",
    "$$\\frac{\\partial{J}}{\\partial{\\theta_{j}}}(\\theta)=\\frac{2}{m}\\sum_{i=1}^{m}(\\theta^{T}x^{(i)}-y^{(i)})x_{j}^{(i)}$$\n",
    "\n",
    "Instead of computing the partial derivatives individually, we can give a general expression for batch mean squared error gradient. We have:\n",
    "\n",
    "$$MSE(\\theta)=\\frac{1}{m}(X\\theta - y)^2$$\n",
    "\n",
    "So:\n",
    "\n",
    "$$\\nabla_{\\theta}MSE(\\theta)=\\frac{2}{m}X\\cdot(X\\theta-y)$$\n",
    "\n",
    ".. and because we prefer matrix multiplication over the dot product notation:\n",
    "\n",
    "$$\\nabla_{\\theta}MSE(\\theta)=\\frac{2}{m}X^{T}(X\\theta-y)$$\n",
    "\n",
    "Because, for two vectors $w$ and $x$:\n",
    "\n",
    "$$w \\cdot x = w^{T}x$$\n",
    "\n",
    "We should note that this formula involves calculating the gradient over the whole training set ($X$) for every learning step. This is why this algorithm is called `Batch Gradient Descent`, the batch represending the whole training set. As a result, It's very slow on large training sets. However, GD scales well with the number of features.\n",
    "\n",
    "Once we have the gradient vector, which points uphill, we go in the opposite direction to go downhill.\n",
    "\n",
    "The gradient descent algorithm:\n",
    "$$\\theta^{\\space(next \\space step)} = \\theta - \\eta \\nabla_{\\theta}MSE(\\theta)$$\n",
    "\n",
    "Let's look at a quick implementation of this algorithm:"
   ]
  },
  {
   "cell_type": "markdown",
   "metadata": {},
   "source": [
    "Data Preparation:"
   ]
  },
  {
   "cell_type": "code",
   "execution_count": 17,
   "metadata": {},
   "outputs": [],
   "source": [
    "X = np.linspace(start=0, stop=1, num=100)\n",
    "y = (0.5 * X) + 0.1 + 0.3 * np.random.rand(100)"
   ]
  },
  {
   "cell_type": "code",
   "execution_count": 18,
   "metadata": {},
   "outputs": [
    {
     "data": {
      "image/png": "[encoded data removed]",
      "text/plain": [
       "<Figure size 432x288 with 1 Axes>"
      ]
     },
     "metadata": {
      "needs_background": "light"
     },
     "output_type": "display_data"
    }
   ],
   "source": [
    "plt.scatter(x=X, y=y)\n",
    "plt.show()"
   ]
  },
  {
   "cell_type": "markdown",
   "metadata": {},
   "source": [
    "Next, we append `1`s to X:"
   ]
  },
  {
   "cell_type": "code",
   "execution_count": 19,
   "metadata": {},
   "outputs": [],
   "source": [
    "X = np.c_[np.ones_like(X), X]"
   ]
  },
  {
   "cell_type": "markdown",
   "metadata": {},
   "source": [
    "We then randomly initialize the parameters:"
   ]
  },
  {
   "cell_type": "code",
   "execution_count": 20,
   "metadata": {},
   "outputs": [],
   "source": [
    "theta = np.random.rand(2)"
   ]
  },
  {
   "cell_type": "code",
   "execution_count": 21,
   "metadata": {},
   "outputs": [],
   "source": [
    "def mse(X, y, theta):\n",
    "    \"\"\"Returns the Mean Squared Error.\n",
    "    \n",
    "    # Arguments:\n",
    "        X, np.ndarray: the intput training data with `1`s appended to each row.\n",
    "        y, np.ndarray: the targets of the training rows.\n",
    "        theta, np.ndarray: the parameter vector of the model.\n",
    "    \n",
    "    # Returns\n",
    "        MSE, float: Mean Squared Error between `X*theta` and `y`.\n",
    "    \"\"\"\n",
    "    m = X.shape[0]\n",
    "    X_theta = np.matmul(X, theta)\n",
    "    return 1./m * np.matmul((X_theta - y).T, (X_theta - y))"
   ]
  },
  {
   "cell_type": "code",
   "execution_count": 22,
   "metadata": {},
   "outputs": [],
   "source": [
    "def grad_mse(X, y, theta):\n",
    "    \"\"\"Returns MSE's Gradient Vector.\n",
    "    \n",
    "    # Arguments\n",
    "        X, np.ndarray: the intput training data with `1`s appended to each row.\n",
    "        y, np.ndarray: the targets of the training rows.\n",
    "        theta, np.ndarray: the parameter vector of the model.\n",
    "    \n",
    "    # Results\n",
    "        grad_mse, np.ndarray: the gradient vector of the mean squared error function. \n",
    "    \"\"\"\n",
    "    m = X.shape[0]\n",
    "    X_theta = np.matmul(X, theta)\n",
    "    return 2./m * np.matmul(X.T, X_theta - y)"
   ]
  },
  {
   "cell_type": "markdown",
   "metadata": {},
   "source": [
    "Let's choose a learning rate:"
   ]
  },
  {
   "cell_type": "code",
   "execution_count": 23,
   "metadata": {},
   "outputs": [],
   "source": [
    "lr = 0.01"
   ]
  },
  {
   "cell_type": "markdown",
   "metadata": {},
   "source": [
    "Now let's optimize our model parameters, $\\theta_{0}$ and $\\theta_{1}$:"
   ]
  },
  {
   "cell_type": "code",
   "execution_count": 24,
   "metadata": {},
   "outputs": [],
   "source": [
    "while mse(X, y, theta) > 0.01:\n",
    "    theta = theta - lr * grad_mse(X, y, theta)"
   ]
  },
  {
   "cell_type": "code",
   "execution_count": 25,
   "metadata": {},
   "outputs": [
    {
     "data": {
      "text/plain": [
       "0.009975070681545574"
      ]
     },
     "execution_count": 25,
     "metadata": {},
     "output_type": "execute_result"
    }
   ],
   "source": [
    "mse(X, y, theta)"
   ]
  },
  {
   "cell_type": "markdown",
   "metadata": {},
   "source": [
    "Let's check our parameters:"
   ]
  },
  {
   "cell_type": "code",
   "execution_count": 26,
   "metadata": {},
   "outputs": [
    {
     "data": {
      "text/plain": [
       "array([0.18501833, 0.63902679])"
      ]
     },
     "execution_count": 26,
     "metadata": {},
     "output_type": "execute_result"
    }
   ],
   "source": [
    "theta"
   ]
  },
  {
   "cell_type": "markdown",
   "metadata": {},
   "source": [
    "Finally, let's check what our model learned:"
   ]
  },
  {
   "cell_type": "code",
   "execution_count": 27,
   "metadata": {},
   "outputs": [
    {
     "data": {
      "image/png": "[encoded data removed]",
      "text/plain": [
       "<Figure size 432x288 with 1 Axes>"
      ]
     },
     "metadata": {
      "needs_background": "light"
     },
     "output_type": "display_data"
    }
   ],
   "source": [
    "plt.scatter(x=X[:,1], y=y)\n",
    "plt.plot([0,1], [theta[0] + theta[1]*0, theta[0] + theta[1]*1], color='red')\n",
    "plt.show()"
   ]
  },
  {
   "cell_type": "markdown",
   "metadata": {},
   "source": [
    "Batch Gradient Descent worked perfectly, but what if we had used a different learning rate $\\eta$?\n",
    "\n",
    "The following figure shows the first 10 steps of gradient descent using different learning rates (the dashed line represents the initial one):\n",
    "\n",
    "<div style=\"text-align:center;\"><img style=\"width: 66%;\" src=\"static/imgs/different_lrs.png\"></div>\n",
    "\n",
    "On the left the learning rate is too low: the algorithm will eventually reach the solution, but it will take a long time.\n",
    "\n",
    "In the middle, the learning rate looks pretty good: in just a few iterations, it had already converged to a solution.\n",
    "\n",
    "On the right, the learning rate is too high, the algorithm diverges, jumping all over the place and actually getting away from the solution.\n",
    "\n",
    "To find a good learning rate, we may want to try grid/random search. We have to iteratively search to get an idea of a good learning rate without spending a lot of resources (compute or time).\n",
    "\n",
    "We may wonder how to find a good number of iterations. If we set it low, we'll miss on a better trained model and consequently, better results. If we set it high, we'll waste resources after the model has already converged. A good simple strategy is to **Set a very large number of iterations then interrupt training when we start getting very small gradient values** (meaning the parameters are (almost) not changing).\n",
    "\n",
    "When the cost function is convex and its slope doesn't change abruptly (as in the case of our MSE loss function) Batch Gradient Descent with a fixed learning rate will eventually converge to the optimal solution, but we may have to wait for it to get there.\n",
    "\n",
    "It can take $O(\\frac{1}{\\epsilon})$ with $\\epsilon=d(\\hat{\\theta}, \\theta)$ depending on the shape of the cost function. If we devide the tolerance by 10 to have a more precise solution, then the algorithm may run for 10 times longer."
   ]
  },
  {
   "cell_type": "markdown",
   "metadata": {},
   "source": [
    "### Stochastic Gradient Descent\n",
    "\n",
    "The whole problem with batch gradient descent is that it uses the whole training set at each step to calculate the gradients & optimize the parameters, which **makes it very slow if the training set is large**.\n",
    "\n",
    "At the opposite extreme, **Stochastic Gradient Descent picks only 1 point and calculate the gradients and update the parameters based on it**. Working on 1 data point at a step makes the algorithm really fast. It also makes it possible to train on very large data sets since at each step only one data point is needed in memory. On the other hand, because it only relies on 1 data point at a time (picked randomly) the algorithm is not stable and the loss function doesn't decrease gradually, it only decreases in average.\n",
    "\n",
    "Over time, SGD will find the parameters such as $J(\\theta)$ is very close to 0 but it will continue to bounce up and down due to it picking 1 point at a time.\n",
    "\n",
    "<div style=\"text-align:center;\"><img style=\"width: 50%;\" src=\"static/imgs/SGD_Loss.png\"></div>\n",
    "\n",
    "When the loss curve is irregular, SGD might actually manage to jump out of a local minimum. So SGD has a better chance to find the global minimum than BSG has because SGD is not as stable in optimizing the parameters of the model. **Randomness is Good to Espace local minimas but bad because you will never settle on a minima**.\n",
    "\n",
    "This can be addressed by **Gradually decreasing the learning rate as the algorithm trains**. The steps starts out large which helps the algorithm escape local minima. Then the learning rate gets smaller & smaller, allowing the algorithm to settle on the global minima. This proceess is akin to **simulated annealing**\n",
    "\n",
    "The function that determines the learning rate at each iteration is called the learning rate scheduler. If the learning rate get reduced too quickly, we may get stuck at a local minimum, and if the learning rate get reduced very slowly it might not have any effect on stabalizing the algorithm over the global minimum and ie algorithm will continue to bounce back and fourth.\n",
    "\n",
    "Before diving into the implementation, let's present the formulation of the new loss function & its gradient for Stochastic Gradient Descent. With SGD, we randomly select 1 point from $X$ at each step and feed it to the model, meaning:\n",
    "\n",
    "$$J(\\theta)=(x^{(i)}\\theta - y^{(i)})^{2} \\setminus x^{(i)} \\in \\Bbb{R}^{1 \\times n}, \\theta \\in \\Bbb{R}^{n \\times 1}, y^{(i)} \\in \\Bbb{R}^{1 \\times 1}$$\n",
    "$$\\nabla_{\\theta}J(\\theta)=2{x^{(i)}}^{T}(x^{(i)}\\theta - y^{(i)})$$\n",
    "\n",
    "This code implements stochastic gradient descent using a simple learning schedule:"
   ]
  },
  {
   "cell_type": "code",
   "execution_count": 28,
   "metadata": {},
   "outputs": [],
   "source": [
    "def sgd_loss(X_i, y_i, theta):\n",
    "    \"\"\"Returns the Mean Squared Error for Stochastic gradient descent.\n",
    "    \n",
    "    # Arguments:\n",
    "        X_i, np.ndarray shape=(1,n): the intput training data row vector with `1` in the beginning.\n",
    "        y, np.ndarray shape=(1,1): the target of the training row.\n",
    "        theta, np.ndarray shape=(n,1): the parameters vector of the model.\n",
    "    \n",
    "    # Returns\n",
    "        MSE, float: Mean Squared Error between `X*theta` and `y`.\n",
    "    \"\"\"\n",
    "    X_theta = np.matmul(X_i, theta)\n",
    "    return (X_theta - y_i)**2"
   ]
  },
  {
   "cell_type": "code",
   "execution_count": 29,
   "metadata": {},
   "outputs": [],
   "source": [
    "def grad_sgd_loss(X_i, y_i, theta):\n",
    "    \"\"\"Returns Stochastic Gradient Descent's Mean Squared Error Gradient.\n",
    "    \n",
    "    # Arguments\n",
    "        X_i, np.ndarray shape=(1,n): the intput training data row vector with `1` in the beginning.\n",
    "        y, np.ndarray shape=(1,1): the target of the training row.\n",
    "        theta, np.ndarray shape=(n,1): the parameters vector of the model.\n",
    "    \n",
    "    # Results\n",
    "        grad_mse, np.ndarray: the gradient vector of the mean squared error function. \n",
    "    \"\"\"\n",
    "    X_theta = np.matmul(X_i, theta)\n",
    "    return 2. * X_i.T * (X_theta - y_i)"
   ]
  },
  {
   "cell_type": "code",
   "execution_count": 30,
   "metadata": {},
   "outputs": [],
   "source": [
    "def learning_rate_scheduler(lr, perc):\n",
    "    \"\"\"Returns annealed learning rate based on current one & reduction percentage\n",
    "    \n",
    "    # Arguments\n",
    "        lr: float, initial learning rate\n",
    "        perc: float \\in [0,1]: annealing percentage\n",
    "    \n",
    "    # Returns\n",
    "        next_lr: float, next learning rate to use\n",
    "    \"\"\"\n",
    "    return perc * lr"
   ]
  },
  {
   "cell_type": "code",
   "execution_count": 31,
   "metadata": {},
   "outputs": [],
   "source": [
    "theta = np.random.rand(2)"
   ]
  },
  {
   "cell_type": "code",
   "execution_count": 32,
   "metadata": {},
   "outputs": [],
   "source": [
    "lr, steps = 0.1, 100000\n",
    "\n",
    "for _ in range(steps):\n",
    "    random_idx = np.random.randint(low=0, high=X.shape[0])\n",
    "    lr = learning_rate_scheduler(lr, perc=0.99) \n",
    "    theta = theta - lr * grad_sgd_loss(X[random_idx], y[random_idx], theta)"
   ]
  },
  {
   "cell_type": "code",
   "execution_count": 33,
   "metadata": {},
   "outputs": [
    {
     "data": {
      "text/plain": [
       "0.001011194237712723"
      ]
     },
     "execution_count": 33,
     "metadata": {},
     "output_type": "execute_result"
    }
   ],
   "source": [
    "sgd_loss(X[random_idx], y[random_idx], theta)"
   ]
  },
  {
   "cell_type": "markdown",
   "metadata": {},
   "source": [
    "Let's check our parameters:"
   ]
  },
  {
   "cell_type": "code",
   "execution_count": 34,
   "metadata": {},
   "outputs": [
    {
     "data": {
      "text/plain": [
       "array([0.23333723, 0.51671031])"
      ]
     },
     "execution_count": 34,
     "metadata": {},
     "output_type": "execute_result"
    }
   ],
   "source": [
    "theta"
   ]
  },
  {
   "cell_type": "markdown",
   "metadata": {},
   "source": [
    "Finally, let's check what our model learned:"
   ]
  },
  {
   "cell_type": "code",
   "execution_count": 35,
   "metadata": {},
   "outputs": [
    {
     "data": {
      "image/png": "[encoded data removed]",
      "text/plain": [
       "<Figure size 432x288 with 1 Axes>"
      ]
     },
     "metadata": {
      "needs_background": "light"
     },
     "output_type": "display_data"
    }
   ],
   "source": [
    "plt.scatter(x=X[:,1], y=y)\n",
    "plt.plot([0,1], [theta[0] + theta[1]*0, theta[0] + theta[1]*1], color='red')\n",
    "plt.show()"
   ]
  },
  {
   "cell_type": "markdown",
   "metadata": {},
   "source": [
    "We can see that breaking training based on local loss (between the current random point & its target) is not good because we might have a very good local loss but the global loss is still far from minimized.\n",
    "\n",
    "We didn't support epochs & we're not guaranteeing looping over all training points. On top of that, our learning rate decreaser is primitive, we're not preserving dimensions as we consider $1 \\times 1$ as a $cte \\in R$. \n",
    "\n",
    "Let's go over the book's solution:"
   ]
  },
  {
   "cell_type": "code",
   "execution_count": 36,
   "metadata": {},
   "outputs": [],
   "source": [
    "n_epochs = 50\n",
    "t0, t1 = 5, 50\n",
    "m = X.shape[0]"
   ]
  },
  {
   "cell_type": "code",
   "execution_count": 37,
   "metadata": {},
   "outputs": [],
   "source": [
    "def learning_schedule(t):\n",
    "    return t0 / (t + t1)"
   ]
  },
  {
   "cell_type": "code",
   "execution_count": 38,
   "metadata": {},
   "outputs": [],
   "source": [
    "theta = np.random.randn(2, 1)"
   ]
  },
  {
   "cell_type": "code",
   "execution_count": 39,
   "metadata": {},
   "outputs": [],
   "source": [
    "for epoch in range(n_epochs):\n",
    "    for i in range(m):\n",
    "        random_index = np.random.randint(m)\n",
    "        xi = X[random_index:random_index+1]\n",
    "        yi = y[random_index:random_index+1] \n",
    "        gradients = 2 * xi.T.dot(xi.dot(theta) - yi) \n",
    "        eta = learning_schedule(epoch * m + i)\n",
    "        theta = theta - eta * gradients"
   ]
  },
  {
   "cell_type": "code",
   "execution_count": 40,
   "metadata": {},
   "outputs": [
    {
     "data": {
      "text/plain": [
       "array([[0.2255745 ],\n",
       "       [0.51725724]])"
      ]
     },
     "execution_count": 40,
     "metadata": {},
     "output_type": "execute_result"
    }
   ],
   "source": [
    "theta"
   ]
  },
  {
   "cell_type": "code",
   "execution_count": 41,
   "metadata": {},
   "outputs": [
    {
     "data": {
      "image/png": "[encoded data removed]",
      "text/plain": [
       "<Figure size 432x288 with 1 Axes>"
      ]
     },
     "metadata": {
      "needs_background": "light"
     },
     "output_type": "display_data"
    }
   ],
   "source": [
    "plt.scatter(x=X[:,1], y=y)\n",
    "plt.plot([0,1], [theta[0][0] + theta[1][0]*0, theta[0][0] + theta[1][0]*1], color='red')\n",
    "plt.show()"
   ]
  },
  {
   "cell_type": "markdown",
   "metadata": {},
   "source": [
    "By convention, we iterate by rounds of $m$ iterations, each round is called an **epoch**. While the Batch Gradient Descent algorithm iterate for 1,000 times to converge, we only iterated for 50 times.\n",
    "\n",
    "Notice that some rows may be picked several times, and others may not be picked at all. If we want to make sure we feed all instances per epoch, in the beginning of each epoch:\n",
    "1. Shuffle (X, y) jointly by index\n",
    "2. Loop over their rows row by row\n",
    "\n",
    "However, this method is known to **converge more slowly**.\n",
    "\n",
    "When using SGD, the rows must be independent and identically distributed. We should make sure to randomly shuffle the rows or pick each one at random. If we don't do this, the algorithm might lean towards trends in the last couple of rows we fed it (For example, if we sort by label value then feed).\n",
    "\n",
    "Stochastic sampling insures convergance towards the global minimum.\n",
    "\n",
    "We can also do it the scikit-learn way:"
   ]
  },
  {
   "cell_type": "code",
   "execution_count": 42,
   "metadata": {},
   "outputs": [],
   "source": [
    "from sklearn.linear_model import SGDRegressor"
   ]
  },
  {
   "cell_type": "code",
   "execution_count": 43,
   "metadata": {},
   "outputs": [],
   "source": [
    "sgd_reg = SGDRegressor(max_iter=1000, tol=1e-3, penalty=None, eta0=0.1)"
   ]
  },
  {
   "cell_type": "code",
   "execution_count": 44,
   "metadata": {},
   "outputs": [
    {
     "data": {
      "text/plain": [
       "SGDRegressor(alpha=0.0001, average=False, early_stopping=False, epsilon=0.1,\n",
       "             eta0=0.1, fit_intercept=True, l1_ratio=0.15,\n",
       "             learning_rate='invscaling', loss='squared_loss', max_iter=1000,\n",
       "             n_iter_no_change=5, penalty=None, power_t=0.25, random_state=None,\n",
       "             shuffle=True, tol=0.001, validation_fraction=0.1, verbose=0,\n",
       "             warm_start=False)"
      ]
     },
     "execution_count": 44,
     "metadata": {},
     "output_type": "execute_result"
    }
   ],
   "source": [
    "sgd_reg.fit(X=X, y=y)"
   ]
  },
  {
   "cell_type": "code",
   "execution_count": 45,
   "metadata": {},
   "outputs": [
    {
     "data": {
      "text/plain": [
       "array([0.14630809, 0.38390738])"
      ]
     },
     "execution_count": 45,
     "metadata": {},
     "output_type": "execute_result"
    }
   ],
   "source": [
    "sgd_reg.coef_"
   ]
  },
  {
   "cell_type": "code",
   "execution_count": 46,
   "metadata": {},
   "outputs": [
    {
     "data": {
      "image/png": "[encoded data removed]",
      "text/plain": [
       "<Figure size 432x288 with 1 Axes>"
      ]
     },
     "metadata": {
      "needs_background": "light"
     },
     "output_type": "display_data"
    }
   ],
   "source": [
    "plt.scatter(x=X[:,1], y=y)\n",
    "plt.plot([0,1], [sgd_reg.predict(X=[[1, 0]]), sgd_reg.predict(X=[[1, 1]])], color='red')\n",
    "plt.show()"
   ]
  },
  {
   "cell_type": "markdown",
   "metadata": {},
   "source": [
    "### Mini-Batch Gradient Descent\n",
    "\n",
    "At each step, instead of computing the gradients on a single randomly picked instance (SGD) or the full training set (BGD), Mini-Batch gradient descent computes its gradients on randomly selected set of instances. the samples are called **Mini-Batches**\n",
    "\n",
    "The main advantage of MBGD over SGD is the performance boost in matrix operations that you get especially from GPUs. Intuitively, MBGD's parameter optimization process is less erratic than SGD because the fed sample is more representative than one randomly selected point, especially for fairly big mini-batch sizes.\n",
    "\n",
    "<div style=\"text-align:center;\"><img style=\"width: 66%;\" src=\"static/imgs/algos_comparison.png\"></div>\n",
    "\n",
    "The previous figure shows the path taken by BGD, SGD, MBGD. They all endup near the minimum. Batch Gradient Descent actually stops at the minimum while both SGD & MBGD continue to walk around.\n",
    "\n",
    "We shouldn't forget that batch gradient descent takes a long time to converge because we're computing the gradients over the whole training set at each step.\n",
    "\n",
    "**SGD & MBGD will also converge to the minimum if we use a good learning rate schedule**"
   ]
  },
  {
   "cell_type": "markdown",
   "metadata": {},
   "source": [
    "## Polynomial Regression\n",
    "\n",
    "What if the data is more complex than a straight line? We can't use a linear model to fit non-linear data.\n",
    "\n",
    "A simple way to do this is to **add powers of each feature as new features then train a linear model on this set of features**. This technique is called polynomial regression.\n",
    "\n",
    "Let's look at an example. let's start by generating some nonlinear data, based on a simple quadratic equation + some noise:"
   ]
  },
  {
   "cell_type": "code",
   "execution_count": null,
   "metadata": {},
   "outputs": [],
   "source": [
    "m = 100\n",
    "X = 6 * np.random.rand(m, 1) - 3\n",
    "y = 0.5 * X ** 2 + X + 2 + np.random.randn(m, 1)"
   ]
  },
  {
   "cell_type": "markdown",
   "metadata": {},
   "source": [
    "Basically:\n",
    "\n",
    "$$y=\\frac{1}{2}x^{2} + x + 2 + N(\\mu, \\sigma)$$"
   ]
  },
  {
   "cell_type": "code",
   "execution_count": 48,
   "metadata": {},
   "outputs": [
    {
     "data": {
      "image/png": "[encoded data removed]",
      "text/plain": [
       "<Figure size 432x288 with 1 Axes>"
      ]
     },
     "metadata": {
      "needs_background": "light"
     },
     "output_type": "display_data"
    }
   ],
   "source": [
    "plt.scatter(X, y, color='blue')\n",
    "plt.xlabel('x1')\n",
    "plt.ylabel('y')\n",
    "plt.show()"
   ]
  },
  {
   "cell_type": "markdown",
   "metadata": {},
   "source": [
    "Clearly a straight line will never fit this data properly.\n",
    "\n",
    "As a solution, let's add $x^{2}$ as a new feature to $X$, then train a simple linear model:"
   ]
  },
  {
   "cell_type": "code",
   "execution_count": 49,
   "metadata": {},
   "outputs": [],
   "source": [
    "from sklearn.preprocessing import PolynomialFeatures"
   ]
  },
  {
   "cell_type": "code",
   "execution_count": 50,
   "metadata": {},
   "outputs": [],
   "source": [
    "poly_features = PolynomialFeatures(degree=2, include_bias=False)"
   ]
  },
  {
   "cell_type": "code",
   "execution_count": 51,
   "metadata": {},
   "outputs": [],
   "source": [
    "X_poly = poly_features.fit_transform(X)"
   ]
  },
  {
   "cell_type": "code",
   "execution_count": 52,
   "metadata": {},
   "outputs": [
    {
     "data": {
      "text/plain": [
       "array([[ 2.49405172e+00,  6.22029399e+00],\n",
       "       [-1.04420879e+00,  1.09037199e+00],\n",
       "       [ 2.96247742e-02,  8.77627245e-04]])"
      ]
     },
     "execution_count": 52,
     "metadata": {},
     "output_type": "execute_result"
    }
   ],
   "source": [
    "X_poly[:3]"
   ]
  },
  {
   "cell_type": "code",
   "execution_count": 53,
   "metadata": {},
   "outputs": [],
   "source": [
    "lin_reg = LinearRegression()"
   ]
  },
  {
   "cell_type": "code",
   "execution_count": 54,
   "metadata": {},
   "outputs": [
    {
     "data": {
      "text/plain": [
       "LinearRegression(copy_X=True, fit_intercept=True, n_jobs=None, normalize=False)"
      ]
     },
     "execution_count": 54,
     "metadata": {},
     "output_type": "execute_result"
    }
   ],
   "source": [
    "lin_reg.fit(X_poly, y)"
   ]
  },
  {
   "cell_type": "code",
   "execution_count": 55,
   "metadata": {},
   "outputs": [
    {
     "data": {
      "text/plain": [
       "(array([1.91509524]), array([[0.95997432, 0.5268163 ]]))"
      ]
     },
     "execution_count": 55,
     "metadata": {},
     "output_type": "execute_result"
    }
   ],
   "source": [
    "lin_reg.intercept_, lin_reg.coef_"
   ]
  },
  {
   "cell_type": "markdown",
   "metadata": {},
   "source": [
    "Let's plot it:"
   ]
  },
  {
   "cell_type": "code",
   "execution_count": 56,
   "metadata": {},
   "outputs": [],
   "source": [
    "X_p = np.linspace(start=-3, stop=3, num=100).reshape(-1, 1)\n",
    "X__p = poly_features.transform(X_p)\n",
    "y_p = lin_reg.predict(X=X__p)"
   ]
  },
  {
   "cell_type": "code",
   "execution_count": 57,
   "metadata": {},
   "outputs": [
    {
     "data": {
      "image/png": "[encoded data removed]",
      "text/plain": [
       "<Figure size 432x288 with 1 Axes>"
      ]
     },
     "metadata": {
      "needs_background": "light"
     },
     "output_type": "display_data"
    }
   ],
   "source": [
    "plt.scatter(X, y, color='blue')\n",
    "plt.plot(X_p, y_p, color='red', label='predictions', linewidth=3)\n",
    "plt.xlabel('X')\n",
    "plt.ylabel('y')\n",
    "plt.legend(loc='upper left')\n",
    "plt.show()"
   ]
  },
  {
   "cell_type": "markdown",
   "metadata": {},
   "source": [
    "Not bad, training results in the following hypothesis:\n",
    "\n",
    "$$y= (0.50463537) * x^{2} + (1.07951347) * x + 2 + 0.03834072$$\n",
    "\n",
    "Which is very close to:\n",
    "\n",
    "$$y=\\frac{1}{2}x^{2} + x + 2 + N(\\mu, \\sigma)$$\n",
    "\n",
    "When we have powers of features, polynomial linear regression is capable of finding non-linear relationships. Which is something a plain linear regression model cannot do. This is made possible by the fact that `PolynomialFeatures` adds all possible combinations of features up to a certain degree."
   ]
  },
  {
   "cell_type": "markdown",
   "metadata": {},
   "source": [
    "## Learning Curve\n",
    "\n",
    "If we fit our training data with polynomial regression, we will likely fit it much better than with just `LinearRegression`, but beware that as we augment the degree of the polynomial, we're giving it more predictive power:\n",
    "\n",
    "<div style=\"text-align:center;\"><img style=\"width: 66%;\" src=\"static/imgs/Power_degrees.png\"></div>\n",
    "\n",
    "We notice how the 300 degree polynomial model wiggles around to get as close as possible to all of the training data points.\n",
    "- Degree 1 — **Underfitting**\n",
    "- Degree 2 — **Fitting**\n",
    "- Degree 300 — **Overfitting**\n",
    "\n",
    "Because we generated synthetic data using a qudratic function, we know that degree 2 is good, but in most cases, we won't know the function that generated the data!\n",
    "\n",
    "The next logical questions is: \"How to know if our model is overfitting or underfitting?\". The validation dataset is to the rescue:\n",
    "- If our model performs good on the training data but badly on the validation data —> Overfitting\n",
    "- If our model performs badly on the training data & badly on the validation data —> Underfitting\n",
    "- If our model performs good on the training data & good on the validation data —> Fitting\n",
    "\n",
    "Another way to tell if we're overfitting/underfitting is to look at the learning curves. We should analyze the curves that show performance over the training set versus validation set with varying training set sizes. To generate the plot, we should train the same model on different training set sizes:"
   ]
  },
  {
   "cell_type": "code",
   "execution_count": 58,
   "metadata": {},
   "outputs": [],
   "source": [
    "from sklearn.metrics import mean_squared_error\n",
    "from sklearn.model_selection import train_test_split"
   ]
  },
  {
   "cell_type": "code",
   "execution_count": 59,
   "metadata": {},
   "outputs": [],
   "source": [
    "def plot_learning_curve(model, X, y):\n",
    "    \"\"\"Plots model training/validation's MSE over different sizes of training sets.\n",
    "    \n",
    "    # Arguments\n",
    "        model: sklearn.*, a scikit-learn model to be trained/tested.\n",
    "        X: np.ndarray, the input dataset.\n",
    "        y: np.ndarray, the output dataset.\n",
    "    \"\"\"\n",
    "    X_train, X_test, y_train, y_test = train_test_split(X, y, test_size=.2)\n",
    "    train_errors, val_errors = list(), list()\n",
    "    for m in range(1, X_train.shape[0]):\n",
    "        model.fit(X_train[:m], y_train[:m])\n",
    "        y_train_predict = model.predict(X_train[:m])\n",
    "        y_val_predict = model.predict(X_test)\n",
    "        train_errors.append(mean_squared_error(y_train[:m], y_train_predict))\n",
    "        val_errors.append(mean_squared_error(y_test, y_val_predict))\n",
    "    plt.plot(np.sqrt(train_errors), 'r-+', linewidth=2, label='Training Loss')\n",
    "    plt.plot(np.sqrt(val_errors), 'b-', linewidth=3, label='Validation Loss')\n",
    "    plt.xlabel('Training set size')\n",
    "    plt.ylabel('RMSE')\n",
    "    plt.ylim([0, 3])\n",
    "    plt.legend(loc='upper right')\n",
    "    plt.show()"
   ]
  },
  {
   "cell_type": "markdown",
   "metadata": {},
   "source": [
    "Let's look at the learning curves of a plain linear regression model:"
   ]
  },
  {
   "cell_type": "code",
   "execution_count": 60,
   "metadata": {},
   "outputs": [],
   "source": [
    "from sklearn.linear_model import LinearRegression"
   ]
  },
  {
   "cell_type": "code",
   "execution_count": 61,
   "metadata": {},
   "outputs": [],
   "source": [
    "lin_reg = LinearRegression()"
   ]
  },
  {
   "cell_type": "code",
   "execution_count": 62,
   "metadata": {},
   "outputs": [
    {
     "data": {
      "image/png": "[encoded data removed]",
      "text/plain": [
       "<Figure size 432x288 with 1 Axes>"
      ]
     },
     "metadata": {
      "needs_background": "light"
     },
     "output_type": "display_data"
    }
   ],
   "source": [
    "plot_learning_curve(lin_reg, X, y)"
   ]
  },
  {
   "cell_type": "markdown",
   "metadata": {},
   "source": [
    "When there are `1` or `2` instances in the training set, the model can fit them perfectly. But when we add more training data, it becomes impossible for the model to fit all points perfectly. Both because the data is noisy and because the data isn't linear at all.\n",
    "\n",
    "The training `RMSE` converges to a plateau and if we add more data, RMSE doesn't get effected as much. On the other hand, when the model is trained on a few instances, it's not able to generalize well hence the bad losses for `val`. \n",
    "\n",
    "As the model is shown more examples, it learns general patterns and the `val` error converges to the training error.\n",
    "\n",
    "**These curves are typical for a model that is underfitting**.\n",
    "\n",
    "If our model is underfitting the data, **adding more data points will not help**, we need to **add more features or use a more complex model**.\n",
    "\n",
    "Let's fit and visualize the curves of a 10-degree polynomial model:"
   ]
  },
  {
   "cell_type": "code",
   "execution_count": 63,
   "metadata": {},
   "outputs": [],
   "source": [
    "from sklearn.pipeline import Pipeline"
   ]
  },
  {
   "cell_type": "code",
   "execution_count": 64,
   "metadata": {},
   "outputs": [],
   "source": [
    "polynomial_regression = Pipeline([\n",
    "    ('poly_features', PolynomialFeatures(degree=10, include_bias=False)),\n",
    "    ('lin_reg', LinearRegression())\n",
    "])"
   ]
  },
  {
   "cell_type": "code",
   "execution_count": 65,
   "metadata": {},
   "outputs": [
    {
     "data": {
      "image/png": "[encoded data removed]",
      "text/plain": [
       "<Figure size 432x288 with 1 Axes>"
      ]
     },
     "metadata": {
      "needs_background": "light"
     },
     "output_type": "display_data"
    }
   ],
   "source": [
    "plot_learning_curve(polynomial_regression, X, y)"
   ]
  },
  {
   "cell_type": "markdown",
   "metadata": {},
   "source": [
    "These learning curves look very similar to the previous ones, but there are some key differences:\n",
    "- The error on the training data is much lower than in the previous example.\n",
    "- there is a **gap** between the curves, meaning the model performs much better on the training set than on the validation set. Which is the hallmark of an overfitting model.\n",
    "\n",
    "One solution to overfitting **is to have more training data until the validation loss reaches the training loss**.\n",
    "\n",
    "An important theoretical result of statistics and ML is that the generalizability error can be expressed as the sum of three very different erros:\n",
    "\n",
    "**Bias**: Has to do with wrong assumptions, like assuming the data is linear when it's actually quadratic. A high bias model is most likely to underfit the training data.\n",
    "\n",
    "**Variance**: Has to do with a model's excessive sensitivity to the training data. A high variance model tends to overfit the training data.\n",
    "\n",
    "Every dataset has what we call **irreducible Error** (the noisiness of the data itself). The only way to reduce this error is to fix the data. Increasing a model's complexity will typically increase its variance and decrease bias (with a less restricted model). Reducing the model's complexity will increase bias and decrease variance.\n",
    "\n",
    "This is what we call the bias-variance trade-off."
   ]
  },
  {
   "cell_type": "markdown",
   "metadata": {},
   "source": [
    "## Regularized Linear Models\n",
    "\n",
    "A good way to reduce overfitting is to regularize the model. \n",
    "\n",
    "For exmaple, a simple way to regularize a polynomial model is to reduce the number of degrees it has. For a linear model, regularization is typically achieved by constraining the model's weights range.\n",
    "\n",
    "Let's look at 3 other methods to constrain the weights of a linear model: "
   ]
  },
  {
   "cell_type": "markdown",
   "metadata": {},
   "source": [
    "### Ridge Regression\n",
    "\n",
    "Ridge regression is a regularized version of linear regression. A regularized term $\\alpha \\sum_{i=0}^{n}\\theta_{i}^{2}$ is added to the cost function, meaning:\n",
    "\n",
    "$$J(\\theta)=\\frac{1}{m}(X\\theta-y)^{T}(X\\theta-y) + \\alpha \\frac{1}{2} \\theta_{\\neq 0}^{T} \\theta_{\\neq 0}$$\n",
    "$$\\nabla_{\\theta} J(\\theta)=\\frac{2}{m}X^{T}(X\\theta-y) + \\alpha \\begin{bmatrix}0 \\\\ \\theta_{\\neq 0}\\end{bmatrix}$$\n",
    "\n",
    "This forces the model not only to fit the data but to try to keep the weights as small as possible. The regularization term should only be used during training, once the model is trained, we'll want to use the unregularized loss for performance evaluation.\n",
    "\n",
    "It's quite common for the loss function used during training not to be used during testing/evaluation. \n",
    "\n",
    "On the other hand, a good training cost function should have optimization-friendly derivatives. While the performance measure used in testing should be as close as possible to the objective. However, many evaluation metrics aren't differientiable (Ex. In classification we train using Log-Loss but we evaluate with Accuracy/Precision/Recall).\n",
    "\n",
    "The hyper-parameter $\\alpha$ is used to control how much we want to regularize the model. Note that the bias term is not regularized, because $\\theta_{0}$ doesn't contribute to the curvature of the model (It contributes to its *shift*).\n",
    "\n",
    "We should perform feature scaling before Ridge Regression since ridge regression is sensitive to the values of each weight. The following example shows several ridge models trained on the same linear data using different $\\alpha$ values. Polynomial regression with Ridge regularization:\n",
    "\n",
    "<div style=\"text-align:center;\"><img style=\"width: 66%;\" src=\"static/imgs/ridge_examples.png\"></div>\n",
    "\n",
    "As with Linear regression, we can perform ridge regression either by calculating a closed form formula or by using gradient descent.\n",
    "\n",
    "Following is the closed form solution, where $A$ is the $(n+1) \\times (n+1)$ identity matrix, except with a zero on the top left cell that corresponds to the bias term:\n",
    "\n",
    "$$\\hat{\\theta}=(X^{T}X + \\alpha A)^{-1}X^{T}y$$\n",
    "\n",
    "Let's do closed form Ridge regression using scikit-learn:"
   ]
  },
  {
   "cell_type": "code",
   "execution_count": 66,
   "metadata": {},
   "outputs": [],
   "source": [
    "from sklearn.linear_model import Ridge"
   ]
  },
  {
   "cell_type": "code",
   "execution_count": 67,
   "metadata": {},
   "outputs": [],
   "source": [
    "ridge_red = Ridge(alpha=1, solver='cholesky')"
   ]
  },
  {
   "cell_type": "code",
   "execution_count": 68,
   "metadata": {},
   "outputs": [
    {
     "data": {
      "text/plain": [
       "Ridge(alpha=1, copy_X=True, fit_intercept=True, max_iter=None, normalize=False,\n",
       "      random_state=None, solver='cholesky', tol=0.001)"
      ]
     },
     "execution_count": 68,
     "metadata": {},
     "output_type": "execute_result"
    }
   ],
   "source": [
    "ridge_red.fit(X, y)"
   ]
  },
  {
   "cell_type": "code",
   "execution_count": 69,
   "metadata": {},
   "outputs": [
    {
     "data": {
      "text/plain": [
       "array([[5.29011871]])"
      ]
     },
     "execution_count": 69,
     "metadata": {},
     "output_type": "execute_result"
    }
   ],
   "source": [
    "ridge_red.predict([[1.5]])"
   ]
  },
  {
   "cell_type": "markdown",
   "metadata": {},
   "source": [
    "Let's compare it with Gradient Descent:"
   ]
  },
  {
   "cell_type": "code",
   "execution_count": 70,
   "metadata": {},
   "outputs": [],
   "source": [
    "sgd_reg = SGDRegressor(penalty='l2')"
   ]
  },
  {
   "cell_type": "code",
   "execution_count": 71,
   "metadata": {},
   "outputs": [
    {
     "data": {
      "text/plain": [
       "SGDRegressor(alpha=0.0001, average=False, early_stopping=False, epsilon=0.1,\n",
       "             eta0=0.01, fit_intercept=True, l1_ratio=0.15,\n",
       "             learning_rate='invscaling', loss='squared_loss', max_iter=1000,\n",
       "             n_iter_no_change=5, penalty='l2', power_t=0.25, random_state=None,\n",
       "             shuffle=True, tol=0.001, validation_fraction=0.1, verbose=0,\n",
       "             warm_start=False)"
      ]
     },
     "execution_count": 71,
     "metadata": {},
     "output_type": "execute_result"
    }
   ],
   "source": [
    "sgd_reg.fit(X, y.ravel())"
   ]
  },
  {
   "cell_type": "code",
   "execution_count": 72,
   "metadata": {},
   "outputs": [
    {
     "data": {
      "text/plain": [
       "array([5.27531999])"
      ]
     },
     "execution_count": 72,
     "metadata": {},
     "output_type": "execute_result"
    }
   ],
   "source": [
    "sgd_reg.predict([[1.5]])"
   ]
  },
  {
   "cell_type": "markdown",
   "metadata": {},
   "source": [
    "### Lasso Regression\n",
    "\n",
    "Lasso regression or Least Absolute Shrinkage simply adds the $l_{1}$ to the loss function as follows:\n",
    "\n",
    "$$J(\\theta)=\\frac{1}{m}(X\\theta-y)^{T}(X\\theta-y) + \\alpha \\sum_{i=1}^{n}|\\theta_{i}|$$\n",
    "$$\\nabla_{\\theta} J(\\theta)=\\frac{2}{m}X^{T}(X\\theta-y) + \\alpha \\begin{bmatrix}0 \\\\ sign(\\theta_{1}) \\\\ \\vdots \\\\ sign(\\theta_{n-1}) \\end{bmatrix}$$\n",
    "$$\n",
    "sign(\\theta_{i}) =\n",
    "\\begin{cases}\n",
    "-1,  & \\text{if $\\theta<0$} \\\\\n",
    "0, & \\text{if $\\theta=0$} \\\\ \n",
    "1, & \\text{if $\\theta_{i}>0$}\n",
    "\\end{cases}\n",
    "$$\n",
    "\n",
    "The following is an example showcasing multiple $\\alpha$s effects but using Lasso instead of Ridge regression:\n",
    "\n",
    "<div style=\"text-align:center;\"><img style=\"width: 66%;\" src=\"static/imgs/lasso_examples.png\"></div>\n",
    "\n",
    "An important characteristic of lasso regression is that it tends to eliminate the weights of least important features. **Lasso regression automatically performs feature selection. In a sense, we can also get feature importance**.\n",
    "\n",
    "The following figure showcases Lasso vs. Ridge Losses and global losses:\n",
    "\n",
    "<div style=\"text-align:center;\"><img style=\"width: 66%;\" src=\"static/imgs/lasso_vs_ridge.png\"></div>\n",
    "\n",
    "The Left figures represent Lasso/Ridge terms space and on the right we have Global losses space. If we want to avoid `GD` from bouncing around while using Lasso regression, we should decrease the learning rate while training.\n",
    "\n",
    "The lasso cost function is not differentiable at $\\theta_{i}=0$ but gradient descent still works fine by using a subgradient vector $g$.\n",
    "\n",
    "Let's train a model using Lasso regression:"
   ]
  },
  {
   "cell_type": "code",
   "execution_count": 73,
   "metadata": {},
   "outputs": [],
   "source": [
    "from sklearn.linear_model import Lasso"
   ]
  },
  {
   "cell_type": "code",
   "execution_count": 74,
   "metadata": {},
   "outputs": [],
   "source": [
    "lasso_reg = Lasso(alpha=1)"
   ]
  },
  {
   "cell_type": "code",
   "execution_count": 75,
   "metadata": {},
   "outputs": [
    {
     "data": {
      "text/plain": [
       "Lasso(alpha=1, copy_X=True, fit_intercept=True, max_iter=1000, normalize=False,\n",
       "      positive=False, precompute=False, random_state=None, selection='cyclic',\n",
       "      tol=0.0001, warm_start=False)"
      ]
     },
     "execution_count": 75,
     "metadata": {},
     "output_type": "execute_result"
    }
   ],
   "source": [
    "lasso_reg.fit(X, y)"
   ]
  },
  {
   "cell_type": "code",
   "execution_count": 76,
   "metadata": {},
   "outputs": [
    {
     "data": {
      "text/plain": [
       "array([4.92390673])"
      ]
     },
     "execution_count": 76,
     "metadata": {},
     "output_type": "execute_result"
    }
   ],
   "source": [
    "lasso_reg.predict([[1.5]])"
   ]
  },
  {
   "cell_type": "markdown",
   "metadata": {},
   "source": [
    "### ElasticNet\n",
    "\n",
    "ElasticNet represents a middle ground between Lasso & Ridge Regression. We can control the mix ratio $r$:\n",
    "- When $r=0$, we get ridge regression.\n",
    "- When $r=1$, we get lasso regression.\n",
    "\n",
    "$$J(\\theta)=\\frac{1}{m}(X\\theta-y)^{T}(X\\theta-y) + r\\alpha \\sum_{i=1}^{n-1}|\\theta_{i}| + \\frac{(1-r)}{2}\\alpha \\sum_{i=1}^{n-1}\\theta_{i}^{2}$$\n",
    "\n",
    "The question now is when to use only Linear Regression, Ridge ($l_2$) regression, Lasso ($l_1$) Regression, or ElasticNet regression?\n",
    "\n",
    "It's almost always preferrable to have some kind of regularization, and so we must avoid plain linear regression. **Ridge Regression is a good default.**\n",
    "\n",
    "If we suspect the existance of useless features, we should try Lasso or ElasticNet regression.\n",
    "\n",
    "Elastic Net is generally preferred over Lasso because Lasso may behave erratically when $n>m$ or when many features are strongly correlated.\n",
    "\n",
    "Let's try out Elastic Net:"
   ]
  },
  {
   "cell_type": "code",
   "execution_count": 77,
   "metadata": {},
   "outputs": [],
   "source": [
    "from sklearn.linear_model import ElasticNet"
   ]
  },
  {
   "cell_type": "code",
   "execution_count": 78,
   "metadata": {},
   "outputs": [],
   "source": [
    "elastic_reg = ElasticNet(alpha=1, l1_ratio=0.5)"
   ]
  },
  {
   "cell_type": "code",
   "execution_count": 79,
   "metadata": {},
   "outputs": [
    {
     "data": {
      "text/plain": [
       "ElasticNet(alpha=1, copy_X=True, fit_intercept=True, l1_ratio=0.5,\n",
       "           max_iter=1000, normalize=False, positive=False, precompute=False,\n",
       "           random_state=None, selection='cyclic', tol=0.0001, warm_start=False)"
      ]
     },
     "execution_count": 79,
     "metadata": {},
     "output_type": "execute_result"
    }
   ],
   "source": [
    "elastic_reg.fit(X, y)"
   ]
  },
  {
   "cell_type": "code",
   "execution_count": 80,
   "metadata": {},
   "outputs": [
    {
     "data": {
      "text/plain": [
       "array([4.9567755])"
      ]
     },
     "execution_count": 80,
     "metadata": {},
     "output_type": "execute_result"
    }
   ],
   "source": [
    "elastic_reg.predict([[1.5]])"
   ]
  },
  {
   "cell_type": "markdown",
   "metadata": {},
   "source": [
    "### Early Stopping\n",
    "\n",
    "The idea: **just stop training as soon as the validation error reaches a minimum**.\n",
    "\n",
    "It's such a simple and effecient regularization technique that Geoffrey Hinton called it a \"Beautiful Free Lunch\".\n",
    "\n",
    "<div style=\"text-align:center;\"><img style=\"width: 50%;\" src=\"static/imgs/early_stopping.png\"></div>\n",
    "\n",
    "With SGD and MBGD, the curves aren't so smooth, so we may not be sure if we reached minimum validation loss or not. A possible solution to this is to add in a `patience` hyperparameter that only stops training after $N$ steps of no improvement.\n",
    "\n",
    "Let's implement early stopping:"
   ]
  },
  {
   "cell_type": "code",
   "execution_count": 81,
   "metadata": {},
   "outputs": [],
   "source": [
    "from sklearn.base import clone\n",
    "from sklearn.preprocessing import StandardScaler\n",
    "from sklearn.model_selection import train_test_split"
   ]
  },
  {
   "cell_type": "code",
   "execution_count": 82,
   "metadata": {},
   "outputs": [],
   "source": [
    "X_train, X_val, y_train, y_val = train_test_split(X, y, test_size=0.3)"
   ]
  },
  {
   "cell_type": "code",
   "execution_count": 83,
   "metadata": {},
   "outputs": [],
   "source": [
    "poly_scaler = Pipeline([\n",
    "    (\"poly_features\", PolynomialFeatures(degree=90, include_bias=False)),\n",
    "    (\"std_scaler\", StandardScaler())\n",
    "])"
   ]
  },
  {
   "cell_type": "code",
   "execution_count": 84,
   "metadata": {},
   "outputs": [],
   "source": [
    "X_train_poly_scaled = poly_scaler.fit_transform(X_train)\n",
    "X_val_poly_scaled = poly_scaler.transform(X_val)"
   ]
  },
  {
   "cell_type": "code",
   "execution_count": 85,
   "metadata": {},
   "outputs": [],
   "source": [
    "sgd_reg = SGDRegressor(\n",
    "    max_iter=1,\n",
    "    tol=-np.infty,\n",
    "    warm_start=True,  # continue training instead of restarting from scratch\n",
    "    penalty=None,\n",
    "    learning_rate='constant',\n",
    "    eta0=0.0005\n",
    ")"
   ]
  },
  {
   "cell_type": "code",
   "execution_count": 86,
   "metadata": {},
   "outputs": [],
   "source": [
    "minimum_val_error = float(\"inf\")\n",
    "best_epoch, best_model = None, None"
   ]
  },
  {
   "cell_type": "code",
   "execution_count": 87,
   "metadata": {},
   "outputs": [],
   "source": [
    "for epoch in range(1000):\n",
    "    sgd_reg.fit(X_train_poly_scaled, y_train.ravel())  # continue where it left off\n",
    "    y_val_predict = sgd_reg.predict(X_val_poly_scaled)\n",
    "    val_error = mean_squared_error(y_val, y_val_predict)\n",
    "    if val_error < minimum_val_error:\n",
    "        minimum_val_error = val_error\n",
    "        best_epoch = epoch"
   ]
  },
  {
   "cell_type": "markdown",
   "metadata": {},
   "source": [
    "## Logistic Regression\n",
    "\n",
    "Logistic regression is commonly used to estimate the probability that an instance belongs to a certain class."
   ]
  },
  {
   "cell_type": "markdown",
   "metadata": {},
   "source": [
    "### Estimating Probabilities\n",
    "\n",
    "Just like linear regression, a Logistic regression model computes a weighted sum of the features + a bias term. However, instead of outputting the result directly, it computes the logistic of it.\n",
    "\n",
    "Let the input be $X \\in \\Bbb{R}^{m \\times n}$ and parameters $\\theta \\in \\Bbb{R}^{n \\times 1}$:\n",
    "\n",
    "$$\\hat{p}=h_{\\theta}(X)=\\sigma(X\\theta) \\space ; \\sigma(t)=\\frac{1}{1+e^{-t}}$$\n",
    "\n",
    "The logistic, denoted $\\sigma(.)$ is a sigmoid function, that outputs a number between 0 and 1:"
   ]
  },
  {
   "cell_type": "code",
   "execution_count": 88,
   "metadata": {},
   "outputs": [],
   "source": [
    "sigma_x = np.linspace(start=-10., stop=10., num=100)"
   ]
  },
  {
   "cell_type": "code",
   "execution_count": 89,
   "metadata": {},
   "outputs": [],
   "source": [
    "def sigmoid(x):\n",
    "    \"\"\"calculates the output of the sigmoid function.\n",
    "    \n",
    "    # Arguments\n",
    "        x: np.ndarray, the input to the sigmoid function\n",
    "    \n",
    "    # Returns\n",
    "        y: np.ndarray, the output from the sigmoid function\n",
    "    \"\"\"\n",
    "    return 1/(1 + np.exp(-x))"
   ]
  },
  {
   "cell_type": "code",
   "execution_count": 90,
   "metadata": {},
   "outputs": [],
   "source": [
    "sigma_y = sigmoid(sigma_x)"
   ]
  },
  {
   "cell_type": "code",
   "execution_count": 91,
   "metadata": {},
   "outputs": [
    {
     "data": {
      "image/png": "[encoded data removed]",
      "text/plain": [
       "<Figure size 432x288 with 1 Axes>"
      ]
     },
     "metadata": {
      "needs_background": "light"
     },
     "output_type": "display_data"
    }
   ],
   "source": [
    "plt.plot(sigma_x, sigma_y, color='blue', label=r'$\\sigma(t)=\\frac{1}{1 + e^{-t}}$')\n",
    "plt.plot([-10, 10], [1/2, 1/2], '--', color='black')\n",
    "plt.plot([-10, 10], [1, 1], '--', color='black')\n",
    "plt.plot([-10, 10], [0, 0], '--', color='black')\n",
    "plt.xlabel('t')\n",
    "plt.legend(loc='upper left', fontsize=15)\n",
    "plt.title('Logistic function')\n",
    "plt.show()"
   ]
  },
  {
   "cell_type": "markdown",
   "metadata": {},
   "source": [
    "Once the logistic regression function has estimated the probability $\\hat{p}$ that the instance belongs to the positive class, a prediction can be extracted:\n",
    "\n",
    "$$\\hat{y}=\\begin{cases}1, & \\text{if $\\hat{p} \\ge 0.5$} \\\\ 0, & \\text{if $\\hat{p} < 0.5$}\\end{cases}$$"
   ]
  },
  {
   "cell_type": "markdown",
   "metadata": {},
   "source": [
    "### Training and Cost Function\n",
    "\n",
    "Now we know how a logistic regression model estimates probabilities and makes predictions. but how is it trained?\n",
    "\n",
    "The objective of training is to set parameters $\\theta$ for $h_{\\theta}$ to predict high probabilities for positive instances and low probabilities for negative instances. We can capture this idea by presenting the following cost function:\n",
    "\n",
    "$$J(\\theta)=-\\frac{1}{m}\\sum_{i=1}^{m}[y^{(i)}log(\\hat{p}^{(i)}) + (1-y^{(i)})log(1-\\hat{p}^{(i)})]$$\n",
    "$$J(\\theta)=-\\frac{1}{m}\\sum_{i=1}^{m}c^{(i)}(\\theta) \\space; c^{(i)}(\\theta)=\\begin{cases}log(\\hat{p}^{(i)}) & if y^{(i)}=1 \\\\ log(1-\\hat{p}^{(i)}) & if y^{(i)}=0\\end{cases}$$\n",
    "\n",
    "This function makes sense because:\n",
    "- $-log(t)$ grows very large ($\\to +\\infty$) when $t \\to 0$: a high cost for a positive instance labeled as negative.\n",
    "- $-log(1-t)$ grows very large when $t \\to 1$: a high cost for a negative instance labeled as positive.\n",
    "- $-log(t)$ is close to $0$ when $t \\to 1$: a low cost for a positive instance labeled as positive.\n",
    "- $-log(1-t)$ is close to $0$ when $t \\to 0$: a low cost for a negative instance labeled as negative.\n",
    "\n",
    "The Bad News is that there is no known closed form equation to calculate $\\hat{\\theta}$ that minimizes $J(\\theta)$. The Good News is that this cost function is Convex.\n",
    "\n",
    "The partial derivative of $J(\\theta)$ with regards to $\\theta_{j}$ is:\n",
    "\n",
    "$$\\frac{\\partial{J}}{\\partial{\\theta_{j}}}(\\theta)=\\frac{1}{m}\\sum_{i=1}^{m}(\\sigma(\\theta^{T}x^{(i)})-y^{(i)})x_{j}^{(i)}$$\n",
    "\n",
    "This equation looks very similar to the gradient of Mean Squared Error."
   ]
  },
  {
   "cell_type": "markdown",
   "metadata": {},
   "source": [
    "### Decision Boundaries\n",
    "\n",
    "Let's use the Iris dataset to illustrate Logistic Regression. We will build a classifier to detect the **Iris virginica** types based only on the **petal width** feature:"
   ]
  },
  {
   "cell_type": "code",
   "execution_count": 92,
   "metadata": {},
   "outputs": [],
   "source": [
    "from sklearn import datasets"
   ]
  },
  {
   "cell_type": "code",
   "execution_count": 93,
   "metadata": {},
   "outputs": [],
   "source": [
    "iris = datasets.load_iris()"
   ]
  },
  {
   "cell_type": "code",
   "execution_count": 94,
   "metadata": {},
   "outputs": [
    {
     "data": {
      "text/plain": [
       "['data', 'target', 'target_names', 'DESCR', 'feature_names', 'filename']"
      ]
     },
     "execution_count": 94,
     "metadata": {},
     "output_type": "execute_result"
    }
   ],
   "source": [
    "list(iris.keys())"
   ]
  },
  {
   "cell_type": "code",
   "execution_count": 95,
   "metadata": {},
   "outputs": [
    {
     "data": {
      "text/plain": [
       "(150, 4)"
      ]
     },
     "execution_count": 95,
     "metadata": {},
     "output_type": "execute_result"
    }
   ],
   "source": [
    "iris.data.shape"
   ]
  },
  {
   "cell_type": "code",
   "execution_count": 96,
   "metadata": {},
   "outputs": [
    {
     "data": {
      "text/plain": [
       "['sepal length (cm)',\n",
       " 'sepal width (cm)',\n",
       " 'petal length (cm)',\n",
       " 'petal width (cm)']"
      ]
     },
     "execution_count": 96,
     "metadata": {},
     "output_type": "execute_result"
    }
   ],
   "source": [
    "iris.feature_names"
   ]
  },
  {
   "cell_type": "code",
   "execution_count": 97,
   "metadata": {},
   "outputs": [],
   "source": [
    "X = iris.data[:, 3:]  # Petal Width\n",
    "y = (iris.target == 2).astype(np.int)  # 1 if iris verginica, else 0"
   ]
  },
  {
   "cell_type": "code",
   "execution_count": 98,
   "metadata": {},
   "outputs": [
    {
     "data": {
      "text/plain": [
       "((150, 1), (150,))"
      ]
     },
     "execution_count": 98,
     "metadata": {},
     "output_type": "execute_result"
    }
   ],
   "source": [
    "X.shape, y.shape"
   ]
  },
  {
   "cell_type": "markdown",
   "metadata": {},
   "source": [
    "Let's train a logistic regression model:"
   ]
  },
  {
   "cell_type": "code",
   "execution_count": 99,
   "metadata": {},
   "outputs": [],
   "source": [
    "from sklearn.linear_model import LogisticRegression"
   ]
  },
  {
   "cell_type": "code",
   "execution_count": 100,
   "metadata": {},
   "outputs": [],
   "source": [
    "log_reg = LogisticRegression(solver='liblinear')"
   ]
  },
  {
   "cell_type": "code",
   "execution_count": 101,
   "metadata": {},
   "outputs": [
    {
     "data": {
      "text/plain": [
       "LogisticRegression(C=1.0, class_weight=None, dual=False, fit_intercept=True,\n",
       "                   intercept_scaling=1, l1_ratio=None, max_iter=100,\n",
       "                   multi_class='warn', n_jobs=None, penalty='l2',\n",
       "                   random_state=None, solver='liblinear', tol=0.0001, verbose=0,\n",
       "                   warm_start=False)"
      ]
     },
     "execution_count": 101,
     "metadata": {},
     "output_type": "execute_result"
    }
   ],
   "source": [
    "log_reg.fit(X, y)"
   ]
  },
  {
   "cell_type": "code",
   "execution_count": 102,
   "metadata": {},
   "outputs": [],
   "source": [
    "X_new = np.linspace(0, 3, 1000).reshape(-1, 1)\n",
    "y_proba = log_reg.predict_proba(X_new)"
   ]
  },
  {
   "cell_type": "code",
   "execution_count": 103,
   "metadata": {},
   "outputs": [
    {
     "data": {
      "image/png": "[encoded data removed]",
      "text/plain": [
       "<Figure size 432x288 with 1 Axes>"
      ]
     },
     "metadata": {
      "needs_background": "light"
     },
     "output_type": "display_data"
    }
   ],
   "source": [
    "plt.plot(X_new, y_proba[:, 1], 'g-', label='Iris Virginica')\n",
    "plt.plot(X_new, y_proba[:, 0], 'b--', label='Not Iris Virginica')\n",
    "plt.plot([1.61, 1.61], [0, 1], '--', color='black')\n",
    "plt.xlabel('Petal Width (cm)')\n",
    "plt.ylabel('Probability')\n",
    "plt.title('Estimated Probability & Decision Boundary')\n",
    "plt.xlim((0., 3.))\n",
    "plt.ylim((0., 1.))\n",
    "plt.legend(loc='center left', fontsize=10)\n",
    "plt.show()"
   ]
  },
  {
   "cell_type": "markdown",
   "metadata": {},
   "source": [
    "The decision boundary is at about 1.6 centemeter.\n",
    "\n",
    "The `.predict()` method doesn't care about its confidance, it just outputs a binary indicator based on conditions (ex. if: $predicted\\_proba > 0.5$):"
   ]
  },
  {
   "cell_type": "code",
   "execution_count": 104,
   "metadata": {},
   "outputs": [
    {
     "data": {
      "text/plain": [
       "array([1, 0])"
      ]
     },
     "execution_count": 104,
     "metadata": {},
     "output_type": "execute_result"
    }
   ],
   "source": [
    "log_reg.predict([[1.7], [1.5]])"
   ]
  },
  {
   "cell_type": "markdown",
   "metadata": {},
   "source": [
    "<div style=\"text-align:center;\"><img style=\"width: 50%;\" src=\"static/imgs/2d_decision_boundary.png\"></div>\n",
    "\n",
    "This figure shows the same decision boundary but for two features: `petal length` and `petal width`. The colored lines show the boundaries associated with the confidance probabilities of the trained logistic regressor.\n",
    "\n",
    "Just like other linear regressors, we can add $l1$ and $l2$ penalties to the loss function, `scikit-learn` does that for us by default."
   ]
  },
  {
   "cell_type": "markdown",
   "metadata": {},
   "source": [
    "### Softmax Regression\n",
    "\n",
    "The logistic regression model can be generalized to support multi-class classification, without the need to combine multiple binary classifiers. The idea is simple, once given an instance vector, the model first outputs a score for each of the classes, then applies the softmax function to map the scores to a general probability distribution.\n",
    "\n",
    "The equation to compute $s_k(x)$ should look familiar, for a single vector $x \\in \\Bbb{R}^{n \\times 1}$:\n",
    "\n",
    "$$s_{k}(x)=x^{T}\\theta^{(k)}$$\n",
    "\n",
    "Note that **each class has its own parameters vector $\\theta^{(k)}$**. All these vectors are typically stored as rows in a parameter matrix $\\Theta$.\n",
    "\n",
    "Once we calculate the scores, we use the softmax function to map them to a normalized distribution:\n",
    "\n",
    "$$\\hat{p}_{k}=\\sigma(s(x))_{k}=\\frac{e^{s_{k}(x)}}{\\sum_{j=1}^{K}e^{s_{j}(x)}}$$\n",
    "\n",
    "- $K$: the number of classes.\n",
    "- $s(x)$: the vector containing the score of each class for an instance $x$.\n",
    "- $\\sigma(s(x))_{k}$: the estimated probability that $x$ belongs to class $k$.\n",
    "\n",
    "Softmax Regression predicts the class with the highest probability, meaning the class that got the biggest score:\n",
    "\n",
    "$$\\hat{y}=argmax_{k} \\sigma(s(x))_{k}=argmax_{k}s_{k}(x)=argmax_{k}({\\theta^{(k)}}^{T}x)$$\n",
    "\n",
    "The $argmax$ operator returns the value of $k$ that maximizes the function.\n",
    "\n",
    "We only use Softmax Regression with mutually execlusive classes (i.e. we want one class as an output). We should not use it for multi-output classification.\n",
    "\n",
    "The loss function for Softmax Regression generalizes Logistic Regression Loss:\n",
    "\n",
    "$$J(\\Theta)=-\\frac{1}{m}\\sum_{i=1}^{m}\\sum_{k=1}^{K}y_{k}^{(i)}log(\\hat{p}_{k}^{(i)})$$\n",
    "\n",
    "$y_{k}^{(i)}$ is the binary target that indicates if a point $x^{(i)}$ belongs to class $k$. Notice that if $K=2$ the cost function is equivalent to the logistic regression's cost function.\n",
    "\n",
    "Cross Entropy originated from Information theory. Suppose we want to transmit information about the weather everyday, if there are 8 options (sunny, rainy, ..), we can encode each option using 3 bits, because $2^{3}=8$. However, If we think it'll be sunny almost everyday, it's much more efficient to encode sunny as one $0$ & the other 7 conditions on 4 bits starting with 1.\n",
    "\n",
    "Cross Entropy actually measures the average number of bits we send per option. If our assumption about the weather is correct, the cross entropy will be equal to the entropy in weather itself. If our assumption is wrong, the cross entropy will be greater by an amount called the *Kullback-Leibler (KL) Divergence*.\n",
    "\n",
    "The cross entropy between two probability distributions *p* and *q* is defined as:\n",
    "\n",
    "$$H(p,q)=-\\sum{x}p(x)log(q(x))$$\n",
    "\n",
    "The gradient vector of the cost function $J(\\Theta)$ with regards to $\\theta^{(k)}$ is:\n",
    "\n",
    "$$\\nabla_{\\theta^{(k)}}J(\\Theta)=\\frac{1}{m}\\sum_{i=1}^{m}(\\hat{p}^{(i)}_{k}-y^{(i)}_{k})x^{(i)}$$\n",
    "\n",
    "Let's use Softmax Regression to classify the flowers into their distinct 3 classes:"
   ]
  },
  {
   "cell_type": "code",
   "execution_count": 105,
   "metadata": {},
   "outputs": [
    {
     "data": {
      "text/plain": [
       "(150, 2)"
      ]
     },
     "execution_count": 105,
     "metadata": {},
     "output_type": "execute_result"
    }
   ],
   "source": [
    "X = iris['data'][:, (2,3)]  # Petal Length & Width\n",
    "X.shape"
   ]
  },
  {
   "cell_type": "code",
   "execution_count": 106,
   "metadata": {},
   "outputs": [],
   "source": [
    "y = iris['target']"
   ]
  },
  {
   "cell_type": "code",
   "execution_count": 107,
   "metadata": {},
   "outputs": [],
   "source": [
    "softmax_reg = LogisticRegression(multi_class='multinomial', solver='lbfgs', C=10)"
   ]
  },
  {
   "cell_type": "code",
   "execution_count": 108,
   "metadata": {},
   "outputs": [
    {
     "data": {
      "text/plain": [
       "LogisticRegression(C=10, class_weight=None, dual=False, fit_intercept=True,\n",
       "                   intercept_scaling=1, l1_ratio=None, max_iter=100,\n",
       "                   multi_class='multinomial', n_jobs=None, penalty='l2',\n",
       "                   random_state=None, solver='lbfgs', tol=0.0001, verbose=0,\n",
       "                   warm_start=False)"
      ]
     },
     "execution_count": 108,
     "metadata": {},
     "output_type": "execute_result"
    }
   ],
   "source": [
    "softmax_reg.fit(X, y)"
   ]
  },
  {
   "cell_type": "code",
   "execution_count": 109,
   "metadata": {},
   "outputs": [
    {
     "data": {
      "text/plain": [
       "array([2])"
      ]
     },
     "execution_count": 109,
     "metadata": {},
     "output_type": "execute_result"
    }
   ],
   "source": [
    "softmax_reg.predict([[5,2]])"
   ]
  },
  {
   "cell_type": "code",
   "execution_count": 110,
   "metadata": {},
   "outputs": [
    {
     "data": {
      "text/plain": [
       "array([[ 0,  5, 94]])"
      ]
     },
     "execution_count": 110,
     "metadata": {},
     "output_type": "execute_result"
    }
   ],
   "source": [
    "(softmax_reg.predict_proba([[5,2]])*100).astype(int)"
   ]
  },
  {
   "cell_type": "markdown",
   "metadata": {},
   "source": [
    "---"
   ]
  },
  {
   "cell_type": "markdown",
   "metadata": {},
   "source": [
    "# Exercices"
   ]
  },
  {
   "cell_type": "markdown",
   "metadata": {},
   "source": [
    "**1. Which Linear Regression Algorithm can you use if you have a training set with millions of features?**\n",
    "\n",
    "Ordinary Linear Regression with Stochastic/Mini-Batch Gradient Descent as an optimizier and Lasso (for feature selection) as a regulalrizer. The normal equation doesn't scale with the number of features."
   ]
  },
  {
   "cell_type": "markdown",
   "metadata": {},
   "source": [
    "**2. Suppose the features in your training set have very different scales, Which algorithms can suffer from this? and How? What can you do anout it?**\n",
    "\n",
    "Algorithms that rely on distances to optimize their parameters, like Linear regression with gradient descent. Algorithms may suffer from different feature scales because the optimal optimization path is not straight. More precisely, feature scaling effects parameter scaling in the loss curve.\n",
    "\n",
    "The simple solution is to normalize/standarize all features to be in ranges such as $[0,1]$ $[-1,1]$ or using mean/standard diviation to center feature distributions around $0$ with $\\sigma=1$.\n",
    "\n",
    "Note that the normal equation/SVD approach will work just fine without the need for feature scaling. \n",
    "\n",
    "Added to the problem of regularizing a model with different feature scales is the possibility to convert the found configuration to a suboptimal solution."
   ]
  },
  {
   "cell_type": "markdown",
   "metadata": {},
   "source": [
    "**3. Can gradient descent get stuck in a local minimum when training a logistic regression model?**\n",
    "\n",
    "No, because a logistic regression's loss function is convex."
   ]
  },
  {
   "cell_type": "markdown",
   "metadata": {},
   "source": [
    "**4. Do all gradient descent algorithms lead to the same model, provided you let them run long enough?**\n",
    "\n",
    "Only if we have these extra requirements:\n",
    "- the learning rate is small enough\n",
    "- The loss function is convex\n",
    "\n",
    "However, unless we gradually decrease the learning rate, stochastic/mini-batch gradient descent will never actually converge. They keep trying to minimize for their current fed samples."
   ]
  },
  {
   "cell_type": "markdown",
   "metadata": {},
   "source": [
    "**5. Suppose you use batch gradient descent and you plot the validation error at each epoch. If you notice the validation error consistently goes up, What is Likely going on? How can you fix this?**\n",
    "\n",
    "Overfitting, It is when the model's sensitivity picks up on noise present in the training data. We can fix this by either setting an early stopping strategy where we stop training once the validation loss starts increasing and/or we regularize (constrain) the model to only capture global patterns. \n",
    "\n",
    "If the training loss is also going up then it's clear that the learning rate is too high and the model is diverging."
   ]
  },
  {
   "cell_type": "markdown",
   "metadata": {},
   "source": [
    "**6. Is it a good Idea to stop Mini-batch gradient descent immediately when the validation error goes up?**\n",
    "\n",
    "Because mini-batches sometimes do not represent the whole training set, we may witness an increase in validation loss but in general it should continue to decrease. A good idea is to set a `patience` parameter, where we only stop after `parience` steps of increased validation loss.\n",
    "\n",
    "Another good thing to do is saving the model each time we improve on the score (in intervals) than if the validation loss doesn't improve for `patience` steps, we stop and revert back to the lastest saved model."
   ]
  },
  {
   "cell_type": "markdown",
   "metadata": {},
   "source": [
    "**7. Which gradient descent algorithm will reach the vicinity of the optimal solution the fastest? Which will actually converge? How can you make the others converge as well?**\n",
    "\n",
    "Learning is based on the startegy (Batch, Stochastic, Mini-Batch), generally BGD is considered the best in terms of stability but it takes a long time to converge. Other alternatives are faster (SGD and MBGD) with Stochatic Gradient Descent being the fastest.\n",
    "\n",
    "Given the appropriate learning rate, all gradient-based algorithms on convex loss curves are guaranteed to converge.\n",
    "\n",
    "We program the optimization algorithm to converge by implementing a *learning rate schedule* startegy. The most famous startegy is to incremently decrease the learning rate with each step, so an algorithm will start by making big jumps to quickly reach the optimum's region, then slows dows to converge to the actual optimal point."
   ]
  },
  {
   "cell_type": "markdown",
   "metadata": {},
   "source": [
    "**8. Suppose you're using polynomial regression. You plot the learning curves and you notice a large gap between the training error and the validation error. What is hapenning? What are three ways to solve this?**\n",
    "\n",
    "If validation loss is far less than the training loss & the gap between them is large it means that the validation data is not representative of the training data. The solution to this is to properly shuffle/sample the validation set.\n",
    "\n",
    "$loss(val)>>loss(train)$ means that the model is overfitting to the training data, and there are several ways to deal with it:\n",
    "- Adding more data to the corpus and resample.\n",
    "- Adding more features.\n",
    "- Constraining/Regularizing the model.\n",
    "\n",
    "When talking about a polynomial model, an example of constraining it is by decrease its degree."
   ]
  },
  {
   "cell_type": "markdown",
   "metadata": {},
   "source": [
    "**9. Suppose you used Ridge Regression and you noticed that the training error and validation error are almost equal and fairly high. Would you say the model suffers from high bias or high variance? should you increase the regularization hyper-parameter $\\alpha$ or reduce it?**\n",
    "\n",
    "The model is typically underfitting, so it suffers from high-bias.\n",
    "\n",
    "The solution is to increase model complexity, so we reduce $\\alpha$."
   ]
  },
  {
   "cell_type": "markdown",
   "metadata": {},
   "source": [
    "**10. Why would you like to use...**\n",
    "\n",
    "- Ridge regression instead of plain linear regression without regularization?\n",
    "\n",
    "If my model suffers from overfitting and I want to constraint it (high variance).\n",
    "\n",
    "- Lasso instead of ridge regression?\n",
    "\n",
    "If I have lots of features and I'm interested in feature selection/importance.\n",
    "\n",
    "- ElasticNet Instead of Lasso?\n",
    "If I want to add a ridge regression component to the overall regularization part of the loss function, and Lasso didn't work for me. Basically, If I want to keep lasso but without its erratic behavior."
   ]
  },
  {
   "cell_type": "markdown",
   "metadata": {},
   "source": [
    "**11. Suppose you have to classify pictures as Outdoors/Indoors and Daytime/Nighttime. Should you implement two Logistic regression classifiers or One softmax regression classifier?**\n",
    "\n",
    "Because a picture can be taken indoor in Daytime (class probabilities don't sum up to $1$) we should use two Logistic regression classifiers."
   ]
  },
  {
   "cell_type": "markdown",
   "metadata": {},
   "source": [
    "**12. Implement Batch Gradient Descent with Early Stopping for Softmax Regression (Without the use of Scikit-Learn)**\n",
    "\n",
    "Let's do it using the MNIST Dataset:"
   ]
  },
  {
   "cell_type": "code",
   "execution_count": 111,
   "metadata": {},
   "outputs": [],
   "source": [
    "from sklearn import datasets\n",
    "from sklearn.model_selection import train_test_split"
   ]
  },
  {
   "cell_type": "code",
   "execution_count": 112,
   "metadata": {},
   "outputs": [],
   "source": [
    "X, y = datasets.load_digits(return_X_y=True)"
   ]
  },
  {
   "cell_type": "code",
   "execution_count": 178,
   "metadata": {},
   "outputs": [],
   "source": [
    "X_train, X_val, y_train, y_val = train_test_split(X, y, test_size=0.3, random_state=42)"
   ]
  },
  {
   "cell_type": "code",
   "execution_count": 179,
   "metadata": {},
   "outputs": [
    {
     "data": {
      "text/plain": [
       "((1257, 64), (1257,), (540, 64), (540,))"
      ]
     },
     "execution_count": 179,
     "metadata": {},
     "output_type": "execute_result"
    }
   ],
   "source": [
    "X_train.shape, y_train.shape, X_test.shape, y_test.shape"
   ]
  },
  {
   "cell_type": "code",
   "execution_count": 180,
   "metadata": {},
   "outputs": [
    {
     "data": {
      "text/plain": [
       "(-0.5, 7.5, 7.5, -0.5)"
      ]
     },
     "execution_count": 180,
     "metadata": {},
     "output_type": "execute_result"
    },
    {
     "data": {
      "image/png": "[encoded data removed]",
      "text/plain": [
       "<Figure size 432x288 with 1 Axes>"
      ]
     },
     "metadata": {
      "needs_background": "light"
     },
     "output_type": "display_data"
    }
   ],
   "source": [
    "plt.imshow(X_train[0].reshape(8,8), cmap='gray')\n",
    "plt.axis('off')"
   ]
  },
  {
   "cell_type": "code",
   "execution_count": 181,
   "metadata": {},
   "outputs": [
    {
     "data": {
      "text/plain": [
       "8"
      ]
     },
     "execution_count": 181,
     "metadata": {},
     "output_type": "execute_result"
    }
   ],
   "source": [
    "y_train[0]"
   ]
  },
  {
   "cell_type": "markdown",
   "metadata": {},
   "source": [
    "**1.Softmax Regression**\n",
    "\n",
    "Let's start by creating the forward pass for softmax regression:\n",
    "\n",
    "$$\\hat{y}=\\sigma(X\\Theta)$$\n",
    "$$\\sigma(x_{i})=\\frac{e^{x_{i}}}{\\sum_{j=1}^{K}e^{x_j}}$$\n",
    "$$X \\in \\Bbb{R}^{m \\times (n+1)}, \\Theta \\in \\Bbb{R}^{(n+1) \\times K}$$\n",
    "$$\n",
    "X=\n",
    "    \\begin{pmatrix}\n",
    "    1 & x_{1}^{(1)} & x_{2}^{(1)} & \\dots & x_{n}^{(1)} \\\\\n",
    "    1 & \\dots & \\dots & \\dots & \\dots \\\\\n",
    "    \\vdots & \\vdots & \\vdots & \\vdots & \\vdots \\\\\n",
    "    \\vdots & \\vdots & \\vdots & \\vdots & \\vdots \\\\\n",
    "    1 & x_{1}^{(m)} & x_{2}^{(m)} & \\dots & x_{n}^{(m)} \\\\\n",
    "    \\end{pmatrix}\n",
    "$$"
   ]
  },
  {
   "cell_type": "code",
   "execution_count": 182,
   "metadata": {},
   "outputs": [
    {
     "data": {
      "text/plain": [
       "(1257, 64, 10)"
      ]
     },
     "execution_count": 182,
     "metadata": {},
     "output_type": "execute_result"
    }
   ],
   "source": [
    "m, n = X_train.shape\n",
    "K = len(set(y_train))\n",
    "m, n, K"
   ]
  },
  {
   "cell_type": "markdown",
   "metadata": {},
   "source": [
    "Let's concatenate a vector of ones $v \\in \\{1\\}^{m \\times 1}$ to `X_train`:"
   ]
  },
  {
   "cell_type": "code",
   "execution_count": 183,
   "metadata": {},
   "outputs": [
    {
     "data": {
      "text/plain": [
       "(1257, 65)"
      ]
     },
     "execution_count": 183,
     "metadata": {},
     "output_type": "execute_result"
    }
   ],
   "source": [
    "X_train_ = np.concatenate((np.ones((m, 1)), X_train), axis=1)\n",
    "X_train_.shape"
   ]
  },
  {
   "cell_type": "markdown",
   "metadata": {},
   "source": [
    "We do the same to the validation data:"
   ]
  },
  {
   "cell_type": "code",
   "execution_count": 185,
   "metadata": {},
   "outputs": [
    {
     "data": {
      "text/plain": [
       "(540, 65)"
      ]
     },
     "execution_count": 185,
     "metadata": {},
     "output_type": "execute_result"
    }
   ],
   "source": [
    "X_val_ = np.concatenate((np.ones((X_val.shape[0], 1)), X_val), axis=1)\n",
    "X_val_.shape"
   ]
  },
  {
   "cell_type": "code",
   "execution_count": 186,
   "metadata": {},
   "outputs": [],
   "source": [
    "W = np.random.rand(n+1, K)"
   ]
  },
  {
   "cell_type": "code",
   "execution_count": 187,
   "metadata": {},
   "outputs": [],
   "source": [
    "def softmax(u):\n",
    "    \"\"\"Calculate the softmax vector using the input matrix\n",
    "    \n",
    "    # Arguments\n",
    "        u: np.ndarray, input matrix of samples\n",
    "    \n",
    "    # Returns\n",
    "        v: np.nadarray, softmaxed output matrix\n",
    "    \"\"\"\n",
    "    return np.exp(u)/np.sum(np.exp(u), axis=1)[:,None]"
   ]
  },
  {
   "cell_type": "code",
   "execution_count": 188,
   "metadata": {},
   "outputs": [],
   "source": [
    "def linear(X, W):\n",
    "    \"\"\"A Simple Linear Transformation\n",
    "    \"\"\"\n",
    "    return np.matmul(X, W)"
   ]
  },
  {
   "cell_type": "markdown",
   "metadata": {},
   "source": [
    "Let's make sure Linear & Softmax are correct by inspecting the sum of the probability distribution outputted by Softmax line-wise:"
   ]
  },
  {
   "cell_type": "code",
   "execution_count": 189,
   "metadata": {},
   "outputs": [
    {
     "data": {
      "text/plain": [
       "array([1., 1., 1., ..., 1., 1., 1.])"
      ]
     },
     "execution_count": 189,
     "metadata": {},
     "output_type": "execute_result"
    }
   ],
   "source": [
    "softmax(linear(X_train_, W)).sum(axis=1)"
   ]
  },
  {
   "cell_type": "markdown",
   "metadata": {},
   "source": [
    "**2. Batch Gradient Descent**\n",
    "\n",
    "The loss is expressed as follows:\n",
    "\n",
    "$$J(\\Theta)=-\\frac{1}{m}\\sum_{i=1}^{m}\\sum_{k=1}^{K}y_{k}^{(i)}log(\\hat{p}_{k}^{(i)})$$\n",
    "$$\\hat{p} \\in \\Bbb{R}^{m \\times K}, y \\in \\Bbb{R}^{m \\times K} (one-hot \\space encoded \\space from \\space \\Bbb{R}^{m \\times 1})$$\n",
    "\n",
    "& its gradient is:\n",
    "\n",
    "$$\\nabla_{\\theta^{(k)}}J(\\Theta)=\\frac{1}{m}\\sum_{i=1}^{m}(\\hat{p}^{(i)}_{k}-y^{(i)}_{k})x^{(i)}$$\n",
    "\n",
    "Let's implement it:"
   ]
  },
  {
   "cell_type": "code",
   "execution_count": 190,
   "metadata": {},
   "outputs": [],
   "source": [
    "def cross_entropy(preds, targets):\n",
    "    \"\"\"Returns Cross Entropy Loss for Multi-class Classification\"\"\"\n",
    "    \n",
    "    m, K = preds.shape\n",
    "    log_p = np.log(preds)\n",
    "    y_logp = targets * log_p  # elementwise\n",
    "    return (-1/m) * y_logp.sum(axis=1).sum()"
   ]
  },
  {
   "cell_type": "code",
   "execution_count": 191,
   "metadata": {},
   "outputs": [],
   "source": [
    "def one_hot(u):\n",
    "    m, K = u.shape[0], len(set(u))\n",
    "    encoded = np.zeros((m, K))\n",
    "    for i, u_i in enumerate(u):\n",
    "        encoded[i][u_i] = 1\n",
    "    return encoded"
   ]
  },
  {
   "cell_type": "code",
   "execution_count": 192,
   "metadata": {},
   "outputs": [
    {
     "data": {
      "text/plain": [
       "((1257, 10), (1257,))"
      ]
     },
     "execution_count": 192,
     "metadata": {},
     "output_type": "execute_result"
    }
   ],
   "source": [
    "p_hat = softmax(linear(X_train_, W))\n",
    "p_hat.shape, y_train.shape"
   ]
  },
  {
   "cell_type": "code",
   "execution_count": 194,
   "metadata": {},
   "outputs": [
    {
     "data": {
      "text/plain": [
       "25.17868016516586"
      ]
     },
     "execution_count": 194,
     "metadata": {},
     "output_type": "execute_result"
    }
   ],
   "source": [
    "cross_entropy(p_hat, one_hot(y_train))"
   ]
  },
  {
   "cell_type": "markdown",
   "metadata": {},
   "source": [
    "Now let's implement $\\nabla_{\\Theta}J$ in its general form:\n",
    "\n",
    "$$\\nabla_{\\Theta}J(\\Theta) = \\frac{1}{m}X^{T}(\\hat{p}-y)$$"
   ]
  },
  {
   "cell_type": "code",
   "execution_count": 195,
   "metadata": {},
   "outputs": [],
   "source": [
    "def grad_cross_entropy(inputs, preds, targets):\n",
    "    \"\"\"Calculate the gradient of the cross entropy loss function.\"\"\"\n",
    "    \n",
    "    m, n = inputs.shape\n",
    "    k = preds.shape[1]\n",
    "    err = preds - targets\n",
    "    return (1./m) * np.matmul(inputs.T, err)"
   ]
  },
  {
   "cell_type": "code",
   "execution_count": 196,
   "metadata": {},
   "outputs": [
    {
     "data": {
      "text/plain": [
       "((1257, 65), (1257, 10), (1257, 10))"
      ]
     },
     "execution_count": 196,
     "metadata": {},
     "output_type": "execute_result"
    }
   ],
   "source": [
    "X_train_.shape, p_hat.shape, one_hot(y_train).shape"
   ]
  },
  {
   "cell_type": "code",
   "execution_count": 197,
   "metadata": {},
   "outputs": [
    {
     "data": {
      "text/plain": [
       "(65, 10)"
      ]
     },
     "execution_count": 197,
     "metadata": {},
     "output_type": "execute_result"
    }
   ],
   "source": [
    "grad_cross_entropy(X_train_, p_hat, one_hot(y_train)).shape"
   ]
  },
  {
   "cell_type": "markdown",
   "metadata": {},
   "source": [
    "**3. Early Stopping**"
   ]
  },
  {
   "cell_type": "markdown",
   "metadata": {},
   "source": [
    "Finally, we implement a simple early stopping function to stop training when the validation loss stops decreasing:"
   ]
  },
  {
   "cell_type": "code",
   "execution_count": 206,
   "metadata": {},
   "outputs": [],
   "source": [
    "def early_stop(val_losses):\n",
    "    \"\"\"Returns True if current_val_loss > prev_val_loss\"\"\"\n",
    "    \n",
    "    if len(val_losses) > 1:\n",
    "        if val_losses[-1] > val_losses[-2]:\n",
    "            return True\n",
    "    return False"
   ]
  },
  {
   "cell_type": "markdown",
   "metadata": {},
   "source": [
    "**4. Training Loop**\n",
    "\n",
    "The Gradient Descent Algorithm is:\n",
    "\n",
    "$$\\Theta \\leftarrow \\Theta - \\alpha \\nabla_{\\Theta}J(\\Theta)$$"
   ]
  },
  {
   "cell_type": "code",
   "execution_count": 227,
   "metadata": {},
   "outputs": [],
   "source": [
    "epochs, lr = 10000, 0.02\n",
    "train_losses, val_losses = list(), list()"
   ]
  },
  {
   "cell_type": "code",
   "execution_count": 228,
   "metadata": {},
   "outputs": [],
   "source": [
    "W = np.random.rand(n+1, K)"
   ]
  },
  {
   "cell_type": "code",
   "execution_count": 229,
   "metadata": {},
   "outputs": [],
   "source": [
    "for epoch in range(epochs):\n",
    "    # forward pass\n",
    "    y_preds = softmax(linear(X_train_, W))\n",
    "    \n",
    "    # calculate train loss\n",
    "    train_loss = cross_entropy(y_preds, one_hot(y_train))\n",
    "    train_losses.append(train_loss)\n",
    "    \n",
    "    # calculate validation loss\n",
    "    val_loss = cross_entropy(softmax(linear(X_val_, W)), one_hot(y_val))\n",
    "    val_losses.append(val_loss)\n",
    "    \n",
    "    # Optimize parameters\n",
    "    W = W - (lr * grad_cross_entropy(X_train_, y_preds, one_hot(y_train)))\n",
    "    \n",
    "    # early stop\n",
    "    if early_stop(val_losses):\n",
    "        break"
   ]
  },
  {
   "cell_type": "markdown",
   "metadata": {},
   "source": [
    "Let's plot the training vs. validation losses:"
   ]
  },
  {
   "cell_type": "code",
   "execution_count": 232,
   "metadata": {},
   "outputs": [
    {
     "data": {
      "image/png": "[encoded data removed]",
      "text/plain": [
       "<Figure size 432x288 with 1 Axes>"
      ]
     },
     "metadata": {
      "needs_background": "light"
     },
     "output_type": "display_data"
    }
   ],
   "source": [
    "plt.plot(range(len(train_losses)), train_losses, color='red', label='Train')\n",
    "plt.plot(range(len(val_losses)), val_losses, color='blue', label='Validation')\n",
    "plt.xlabel('Epochs')\n",
    "plt.ylabel('Loss')\n",
    "plt.ylim(0,5)\n",
    "plt.legend()\n",
    "plt.title('Training vs. Validation Losses')\n",
    "plt.show()"
   ]
  },
  {
   "cell_type": "markdown",
   "metadata": {},
   "source": [
    "Let's check our accuracy over the validation set:"
   ]
  },
  {
   "cell_type": "code",
   "execution_count": 237,
   "metadata": {},
   "outputs": [],
   "source": [
    "val_preds = np.argmax(softmax(linear(X_val_, W)), axis=1)"
   ]
  },
  {
   "cell_type": "code",
   "execution_count": 240,
   "metadata": {},
   "outputs": [],
   "source": [
    "acc = ((val_preds == y_val).sum())/len(val_preds)"
   ]
  },
  {
   "cell_type": "code",
   "execution_count": 241,
   "metadata": {},
   "outputs": [
    {
     "data": {
      "text/plain": [
       "0.9518518518518518"
      ]
     },
     "execution_count": 241,
     "metadata": {},
     "output_type": "execute_result"
    }
   ],
   "source": [
    "acc"
   ]
  },
  {
   "cell_type": "markdown",
   "metadata": {},
   "source": [
    "We got ~95% accuracy over unseen data."
   ]
  },
  {
   "cell_type": "markdown",
   "metadata": {},
   "source": [
    "---"
   ]
  }
 ],
 "metadata": {
  "kernelspec": {
   "display_name": "Python 3",
   "language": "python",
   "name": "python3"
  },
  "language_info": {
   "codemirror_mode": {
    "name": "ipython",
    "version": 3
   },
   "file_extension": ".py",
   "mimetype": "text/x-python",
   "name": "python",
   "nbconvert_exporter": "python",
   "pygments_lexer": "ipython3",
   "version": "3.8.6"
  }
 },
 "nbformat": 4,
 "nbformat_minor": 4
}
