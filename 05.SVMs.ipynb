{
 "cells": [
  {
   "cell_type": "markdown",
   "metadata": {},
   "source": [
    "# Chapter 5. Support Vector Machines\n",
    "\n",
    "SVM is a powerful and versetile ML model that is capable of performing Classification, Regression, & even outlier detection. \n",
    "\n",
    "SVMs are particularly suited for complex small-to-medium sized datasets. This chapter will explain the core concepts of SVMs, how they work, and how to use them.\n",
    "\n",
    "## Linear SVM Classification\n",
    "\n",
    "The fundamental idea behind SVMs is better explained with the following picture:\n",
    "\n",
    "<div style=\"text-align:center;\"><img style=\"width:66%;\" src=\"static/imgs/SVM_example.png\" /></div>\n",
    "\n",
    "We can see that the two classes can be separated easily by a straight line (linearly separable). The left plot shows the decision boundaries of three possible linear classifiers. The dashed line model is so bad that it doesn't even separate the two groups linearly. The other two models work perfectly on the plotted training set but their boundaries are so close to the training data points that they'll probably not perform well on unseen data.\n",
    "\n",
    "In constrast, the model on the right not only separate the training data linearly, it also stays as far as possible from both classes data points. Thus, it will likely perform well on unseen data.\n",
    "\n",
    "We can think of an SVM as fitting the widest possible street (represented by the dashed lines) between the classes. This is called **Large Margin Classification**.\n",
    "\n",
    "We should notice that adding more training points off the street **won't effect the decision boundary at all**. It's fully determined by the data points located at the edge of the street. These instances are called **support vectors**.\n",
    "\n",
    "SVMs are also sensitive to feature scales."
   ]
  },
  {
   "cell_type": "markdown",
   "metadata": {},
   "source": [
    "### Soft Margin Classification\n",
    "\n",
    "If we restrict all training instances to be off the SVM street, this is called Hard Margin Classification, Hard Margin Classification is greatly effected by the presence of outliers. The following are two example of how outliers can mess-up hard margin classifiers:\n",
    "\n",
    "<div style=\"text-align:center;\"><img style=\"width:66%;\" src=\"static/imgs/Hard_Margin_Classifier.png\" /></div>\n",
    "\n",
    "To fix the issue, we try to balance finding a wide street with limiting the number of violations. This is called **Soft Margin Classification**.\n",
    "\n",
    "This can be controlled in scikit-learn by the `C` hyper-parameter:\n",
    "\n",
    "<div style=\"text-align:center;\"><img style=\"width:66%;\" src=\"static/imgs/Soft_to_Hard_Street.png\" /></div>\n",
    "\n",
    "By increasing `C`, We're increasing the sensitivity of the model to minimize margin violations within the training set. Meaning, If we're overfitting, we try to reduce the value of the `C` hyper-parameter.\n",
    "\n",
    "Let's use scikit-learn's SVMs:"
   ]
  },
  {
   "cell_type": "code",
   "execution_count": 1,
   "metadata": {},
   "outputs": [],
   "source": [
    "import numpy as np\n",
    "from sklearn import datasets\n",
    "from sklearn.pipeline import Pipeline\n",
    "from sklearn.preprocessing import StandardScaler\n",
    "from sklearn.svm import LinearSVC"
   ]
  },
  {
   "cell_type": "code",
   "execution_count": 2,
   "metadata": {},
   "outputs": [],
   "source": [
    "iris = datasets.load_iris()"
   ]
  },
  {
   "cell_type": "code",
   "execution_count": 3,
   "metadata": {},
   "outputs": [
    {
     "data": {
      "text/plain": [
       "(150, 4)"
      ]
     },
     "execution_count": 3,
     "metadata": {},
     "output_type": "execute_result"
    }
   ],
   "source": [
    "iris['data'].shape"
   ]
  },
  {
   "cell_type": "code",
   "execution_count": 4,
   "metadata": {},
   "outputs": [
    {
     "data": {
      "text/plain": [
       "((150, 2), (150,))"
      ]
     },
     "execution_count": 4,
     "metadata": {},
     "output_type": "execute_result"
    }
   ],
   "source": [
    "X = iris['data'][:, [2,3]]  # Petal Length, Petal Width\n",
    "y = (iris['target'] == 2).astype(np.float64)  # Iris Virginica\n",
    "X.shape, y.shape"
   ]
  },
  {
   "cell_type": "code",
   "execution_count": 5,
   "metadata": {},
   "outputs": [],
   "source": [
    "svm_clf = Pipeline([\n",
    "    ('Scaler', StandardScaler()),\n",
    "    ('Linear_svc', LinearSVC(C=1, loss='hinge'))\n",
    "])"
   ]
  },
  {
   "cell_type": "code",
   "execution_count": 6,
   "metadata": {},
   "outputs": [
    {
     "data": {
      "text/plain": [
       "Pipeline(memory=None,\n",
       "         steps=[('Scaler',\n",
       "                 StandardScaler(copy=True, with_mean=True, with_std=True)),\n",
       "                ('Linear_svc',\n",
       "                 LinearSVC(C=1, class_weight=None, dual=True,\n",
       "                           fit_intercept=True, intercept_scaling=1,\n",
       "                           loss='hinge', max_iter=1000, multi_class='ovr',\n",
       "                           penalty='l2', random_state=None, tol=0.0001,\n",
       "                           verbose=0))],\n",
       "         verbose=False)"
      ]
     },
     "execution_count": 6,
     "metadata": {},
     "output_type": "execute_result"
    }
   ],
   "source": [
    "svm_clf.fit(X, y)"
   ]
  },
  {
   "cell_type": "code",
   "execution_count": 7,
   "metadata": {},
   "outputs": [
    {
     "data": {
      "text/plain": [
       "array([1.])"
      ]
     },
     "execution_count": 7,
     "metadata": {},
     "output_type": "execute_result"
    }
   ],
   "source": [
    " svm_clf.predict([[5.5, 1.7]])"
   ]
  },
  {
   "cell_type": "markdown",
   "metadata": {},
   "source": [
    "Unlike Logistic Regression Models (with their sigmoid functions), SVMs do not output probabilities for each class."
   ]
  },
  {
   "cell_type": "markdown",
   "metadata": {},
   "source": [
    "## NonLinear SVM Classification\n",
    "\n",
    "Many datasets are not even close to being lienarly separable. One approach to handling non-linear modeling is to add more features, such as polynomial features. In some cases this can result in linearly separable datasets.\n",
    "\n",
    "The following is an example of an original non-linearly separable dataset with only one feature $x_{1}$ (on the left), and an augmented linearly seprable dataset with an added feature $x_{2}=x_{1}^{2}$: \n",
    "\n",
    "<div style=\"text-align:center;\"><img style=\"width:66%;\" src=\"static/imgs/nonlinear_to_linear.png\" /></div>\n",
    "\n",
    "Let's implement this idea using scikit-learn:"
   ]
  },
  {
   "cell_type": "code",
   "execution_count": 8,
   "metadata": {},
   "outputs": [],
   "source": [
    "from sklearn.datasets import make_moons\n",
    "from sklearn.preprocessing import PolynomialFeatures"
   ]
  },
  {
   "cell_type": "code",
   "execution_count": 9,
   "metadata": {},
   "outputs": [],
   "source": [
    "X, y = make_moons(n_samples=100, noise=0.15)"
   ]
  },
  {
   "cell_type": "code",
   "execution_count": 10,
   "metadata": {},
   "outputs": [],
   "source": [
    "polynomial_svm_clf = Pipeline([\n",
    "    (\"poly_features\", PolynomialFeatures(degree=3)),\n",
    "    (\"scaler\", StandardScaler()),\n",
    "    (\"svm_clf\", LinearSVC(C=10, loss=\"hinge\"))\n",
    "])"
   ]
  },
  {
   "cell_type": "code",
   "execution_count": 11,
   "metadata": {},
   "outputs": [
    {
     "name": "stderr",
     "output_type": "stream",
     "text": [
      "/Users/mohamedakramzaytar/opt/miniconda3/envs/research/lib/python3.7/site-packages/sklearn/svm/base.py:929: ConvergenceWarning: Liblinear failed to converge, increase the number of iterations.\n",
      "  \"the number of iterations.\", ConvergenceWarning)\n"
     ]
    },
    {
     "data": {
      "text/plain": [
       "Pipeline(memory=None,\n",
       "         steps=[('poly_features',\n",
       "                 PolynomialFeatures(degree=3, include_bias=True,\n",
       "                                    interaction_only=False, order='C')),\n",
       "                ('scaler',\n",
       "                 StandardScaler(copy=True, with_mean=True, with_std=True)),\n",
       "                ('svm_clf',\n",
       "                 LinearSVC(C=10, class_weight=None, dual=True,\n",
       "                           fit_intercept=True, intercept_scaling=1,\n",
       "                           loss='hinge', max_iter=1000, multi_class='ovr',\n",
       "                           penalty='l2', random_state=None, tol=0.0001,\n",
       "                           verbose=0))],\n",
       "         verbose=False)"
      ]
     },
     "execution_count": 11,
     "metadata": {},
     "output_type": "execute_result"
    }
   ],
   "source": [
    "polynomial_svm_clf.fit(X, y)"
   ]
  },
  {
   "cell_type": "code",
   "execution_count": 12,
   "metadata": {},
   "outputs": [
    {
     "data": {
      "text/plain": [
       "1.0"
      ]
     },
     "execution_count": 12,
     "metadata": {},
     "output_type": "execute_result"
    }
   ],
   "source": [
    "polynomial_svm_clf.score(X, y)"
   ]
  },
  {
   "cell_type": "markdown",
   "metadata": {},
   "source": [
    "The following represents the decision boundaries of the model, because we added polynomial degrees, projected boundaries are now non-linear:\n",
    "\n",
    "<div style=\"text-align:center;\"><img style=\"width:50%;\" src=\"static/imgs/polynomial_svms.png\" /></div>"
   ]
  },
  {
   "cell_type": "markdown",
   "metadata": {},
   "source": [
    "### Polynomial Kernels\n",
    "\n",
    "At a low polynomial degrees, adding features cannot deal with complex datasets, and for high polynomial degrees, we endup adding a lot of features, resulting in a very complex & slow model.\n",
    "\n",
    "Fortunately, when using SVMs we can apply an almost miraculous mathematical technique called the **kernel trick**. The kernel trick makes it possible to have the same result as if we added many polynomial features without actually adding them.\n",
    "\n",
    "Let's test it on the moon dataset:"
   ]
  },
  {
   "cell_type": "code",
   "execution_count": 13,
   "metadata": {},
   "outputs": [],
   "source": [
    "from sklearn.svm import SVC"
   ]
  },
  {
   "cell_type": "code",
   "execution_count": 14,
   "metadata": {},
   "outputs": [],
   "source": [
    "poly_kernel_svm_clf = Pipeline([\n",
    "    ('scaler', StandardScaler()),\n",
    "    ('svm_clf', SVC(kernel='poly', degree=3, coef0=1, C=5))\n",
    "])"
   ]
  },
  {
   "cell_type": "code",
   "execution_count": 15,
   "metadata": {},
   "outputs": [
    {
     "data": {
      "text/plain": [
       "Pipeline(memory=None,\n",
       "         steps=[('scaler',\n",
       "                 StandardScaler(copy=True, with_mean=True, with_std=True)),\n",
       "                ('svm_clf',\n",
       "                 SVC(C=5, cache_size=200, class_weight=None, coef0=1,\n",
       "                     decision_function_shape='ovr', degree=3,\n",
       "                     gamma='auto_deprecated', kernel='poly', max_iter=-1,\n",
       "                     probability=False, random_state=None, shrinking=True,\n",
       "                     tol=0.001, verbose=False))],\n",
       "         verbose=False)"
      ]
     },
     "execution_count": 15,
     "metadata": {},
     "output_type": "execute_result"
    }
   ],
   "source": [
    "poly_kernel_svm_clf.fit(X, y)"
   ]
  },
  {
   "cell_type": "markdown",
   "metadata": {},
   "source": [
    "This model trains an SVM classifier using a kernel of third degree features.\n",
    "\n",
    "If our model is overfitting, we might want to decrease the polynomial degree, and If it's underfitting, it might be a good idea to increase the degree. `coef0` controls how much the model is influenced by high-degree polynomials vs. low degree polynomials.\n",
    "\n",
    "The following figure shows the previously trained model (on the left) vs. a more complex model of kernel degree 10:\n",
    "\n",
    "<div style=\"text-align:center;\"><img style=\"width:66%;\" src=\"static/imgs/kernel_trick.png\" /></div>"
   ]
  },
  {
   "cell_type": "markdown",
   "metadata": {},
   "source": [
    "### Similarity Features\n",
    "\n",
    "Another technique to tackle non-linear problems is to add features computed using a **similarity function**, which measures how much each instance resembles a particular landmark.\n",
    "\n",
    "For example, let's take the 1D dataset discussed earlier & add two landmarks to it at $x_{1}=-2$ and $x_{1}=1$, as showcased in the left plot of:\n",
    "\n",
    "<div style=\"text-align:center;\"><img style=\"width:66%;\" src=\"static/imgs/similarity_measures.png\" /></div>\n",
    "\n",
    "We defined the similarity function to be the **Gaussian Radial Basis Function (RBF)** with $\\gamma = 0.3$. $\\phi$ is a bell shaped function varying from 0 ($x$ is very far from $l$) to 1 ($x=l$). After defining a similarity function, the new features are the **distances** of each training instance from the landmarks.\n",
    "\n",
    "As we can see from the plot on the right, the instances become lienarly separable using only distance features.\n",
    "\n",
    "But how do we select the landmarks? The simplest approach is to create a landmark at each and every point of the training data. Doing that will increase the number of dimensions and will yield a better chance of finding a linear separator. The downside is that we will create additional `m` number of features (as rows), which may lead in performance issues."
   ]
  },
  {
   "cell_type": "markdown",
   "metadata": {},
   "source": [
    "### Gaussian RBF Kernel\n",
    "\n",
    "Just like the polynomial features method, the similarity features method can be useful in many ML algorithms, the problem is that with very large datasets, we'll endup with a very big feature space, but once again we have the Kernel trick to make it look as if we added the additional features.\n",
    "\n",
    "Let's do it with `sklearn`:"
   ]
  },
  {
   "cell_type": "code",
   "execution_count": 16,
   "metadata": {},
   "outputs": [],
   "source": [
    "from sklearn.svm import SVC"
   ]
  },
  {
   "cell_type": "code",
   "execution_count": 17,
   "metadata": {},
   "outputs": [],
   "source": [
    "rbf_kernel_svm_clf = Pipeline([\n",
    "    (\"scaler\", StandardScaler()),\n",
    "    (\"svm_clf\", SVC(kernel=\"rbf\", gamma=5, C=0.001))\n",
    "])"
   ]
  },
  {
   "cell_type": "code",
   "execution_count": 18,
   "metadata": {},
   "outputs": [
    {
     "data": {
      "text/plain": [
       "Pipeline(memory=None,\n",
       "         steps=[('scaler',\n",
       "                 StandardScaler(copy=True, with_mean=True, with_std=True)),\n",
       "                ('svm_clf',\n",
       "                 SVC(C=0.001, cache_size=200, class_weight=None, coef0=0.0,\n",
       "                     decision_function_shape='ovr', degree=3, gamma=5,\n",
       "                     kernel='rbf', max_iter=-1, probability=False,\n",
       "                     random_state=None, shrinking=True, tol=0.001,\n",
       "                     verbose=False))],\n",
       "         verbose=False)"
      ]
     },
     "execution_count": 18,
     "metadata": {},
     "output_type": "execute_result"
    }
   ],
   "source": [
    "rbf_kernel_svm_clf.fit(X, y)"
   ]
  },
  {
   "cell_type": "markdown",
   "metadata": {},
   "source": [
    "Let's take a look at the predictions space with the training set instances (bottom left is the trained model above), others correspond to different hyper-parameter configurations:\n",
    "\n",
    "<div style=\"text-align:center;\"><img style=\"width:66%;\" src=\"static/imgs/training_rbfs.png\" /></div>\n",
    "\n",
    "Increasing $\\gamma$ makes the bell-shaped curve narrower, the decision boundary ends up being more irregular, wiggling around individual instances. So $\\gamma$ acts as a regularization hyper-parameter.\n",
    "- Increasing gamma increases model sensitivity (may lead to overfitting).\n",
    "- decreasing gamma increases model bias (may lead to underfitting)\n",
    "\n",
    "We should always try the linear kernel first, if the training set is not too large, we should also try the gaussian RBF kernel."
   ]
  },
  {
   "cell_type": "markdown",
   "metadata": {},
   "source": [
    "### Computational Complexity\n",
    "\n",
    "`LinearSVC` doesn't support the kernel trick and scales with time complexity of $\\mathcal{O}(m \\times n)$. Its algorithm takes longer if we ask for higher precision, precision is controlled by the tollerance hyper-parameter $\\epsilon$.\n",
    "\n",
    "`SVC` is based on `libsvm` that supports the kernel trick with complexity between $\\mathcal{O}(m^{2} \\times n)$ & $\\mathcal{O}(m^{3} \\times n)$. This means that it gets dreadfuly slow when the training instances count gets big. This algorithm is good for small to medium sized datasets and scales well with the number of features."
   ]
  },
  {
   "cell_type": "markdown",
   "metadata": {},
   "source": [
    "## SVM Regression\n",
    "\n",
    "SVMs also support linear and nonlinear regression, but to move from classification to regression we have to reverse the objective. Instead of trying to fit the largest possible street between two classes while limiting margin violations, SVM regression tries to fit **as many instance as possible** on the street while limiting margin violations. The width of the street is controlled by the hyper-parameter $\\epsilon$, following is an example:\n",
    "\n",
    "<div style=\"text-align:center;\"><img style=\"width:66%;\" src=\"static/imgs/SVM_regression.png\" /></div>\n",
    "\n",
    "Adding more instances into the margin doesn't effect the model's predictions; thus the model is said to be $\\epsilon$-insensitive.\n",
    "\n",
    "Let's implement it using `sklearn`'s `SVR` (after scaling & centering the data):"
   ]
  },
  {
   "cell_type": "code",
   "execution_count": 19,
   "metadata": {},
   "outputs": [],
   "source": [
    "from sklearn.svm import LinearSVR"
   ]
  },
  {
   "cell_type": "code",
   "execution_count": 20,
   "metadata": {},
   "outputs": [],
   "source": [
    "svm_reg = LinearSVR(epsilon=1.5)"
   ]
  },
  {
   "cell_type": "code",
   "execution_count": 21,
   "metadata": {},
   "outputs": [
    {
     "data": {
      "text/plain": [
       "LinearSVR(C=1.0, dual=True, epsilon=1.5, fit_intercept=True,\n",
       "          intercept_scaling=1.0, loss='epsilon_insensitive', max_iter=1000,\n",
       "          random_state=None, tol=0.0001, verbose=0)"
      ]
     },
     "execution_count": 21,
     "metadata": {},
     "output_type": "execute_result"
    }
   ],
   "source": [
    "svm_reg.fit(X, y)"
   ]
  },
  {
   "cell_type": "markdown",
   "metadata": {},
   "source": [
    "To tackle linear regression tasks, we can use a kernelized SVM model.\n",
    "\n",
    "Let's do it using the polynomial kernel:"
   ]
  },
  {
   "cell_type": "code",
   "execution_count": 22,
   "metadata": {},
   "outputs": [],
   "source": [
    "from sklearn.svm import SVR"
   ]
  },
  {
   "cell_type": "code",
   "execution_count": 23,
   "metadata": {},
   "outputs": [],
   "source": [
    "svm_poly_reg = SVR(kernel='poly', degree=2, C=100, epsilon=0.1, gamma='auto')"
   ]
  },
  {
   "cell_type": "code",
   "execution_count": 24,
   "metadata": {},
   "outputs": [
    {
     "data": {
      "text/plain": [
       "SVR(C=100, cache_size=200, coef0=0.0, degree=2, epsilon=0.1, gamma='auto',\n",
       "    kernel='poly', max_iter=-1, shrinking=True, tol=0.001, verbose=False)"
      ]
     },
     "execution_count": 24,
     "metadata": {},
     "output_type": "execute_result"
    }
   ],
   "source": [
    "svm_poly_reg.fit(X, y)"
   ]
  },
  {
   "cell_type": "markdown",
   "metadata": {},
   "source": [
    "`LinearSVR` scales linearly with the size of the training set, while `SVR` is much slower (just like `LinearSVC` & `SVC`)."
   ]
  },
  {
   "cell_type": "markdown",
   "metadata": {},
   "source": [
    "## Under the Hood\n",
    "\n",
    "This section explains how `SVMs` make predictions and how their training algorithms work, starting with Linear SVM classifiers.\n",
    "\n",
    "### Decision Function & Predictions\n",
    "\n",
    "The linear SVM classifier model predicts the class of a new instance by simply computing $w^{T}x+b = w_1x_1+w_2x_2+\\dots+w_nx_n+b$, If it's positive, then $x$ is labeled $1$, otherwise $x$ is labeled $0$:\n",
    "\n",
    "$$\\hat{y}=\\begin{cases}\n",
    "1,  & \\text{if $w^{T}x+b \\ge 0$} \\\\\n",
    "0, & \\text{if $w^{T}x+b < 0$}\n",
    "\\end{cases}$$\n",
    "\n",
    "The following showcases the training data points and the activation $w^{T}x+b$:\n",
    "\n",
    "<div style=\"text-align:center;\"><img style=\"width:66%;\" src=\"static/imgs/SVM_space.png\" /></div>\n",
    "\n",
    "Training an SVM Classifier is finding a $(w,b)$ that makes the margin as wide as possible while avoiding margin violations (hard margin) or limiting them (soft margin)."
   ]
  },
  {
   "cell_type": "markdown",
   "metadata": {},
   "source": [
    "### Training Objective\n",
    "\n",
    "We know that the slope of the decision function is $||w||$. Dividing $||w||$ by $2$ will multiply the margin by $2$. So we want to minimize $||w||$ to get a large margin. \n",
    "\n",
    "If we also want to avoid any margin violations then:\n",
    "- We want the decision function to be greater than 1 for all positive training instances.\n",
    "- And lower than -1 for all negative training instances.\n",
    "\n",
    "If we define $t^{(i)}=-1$ for negative instances (if $y^{(i)}=0$) and $t^{(i)}=1$ for positive instances (if $y^{(i)}=1$). Then we can express this constraint as $t^{(i)}(w^{T}x^{(i)}+b)\\ge 1$. \n",
    "\n",
    "We can therefore express the hard margin linear SVM classifier objective as the following constrained optimization problem:\n",
    "\n",
    "$$\\begin{array}{ll}\n",
    "\\text{minimize}_{(w,b)}  & \\frac{1}{2}w^{T}w \\\\\n",
    "\\text{subject to}& t^{(i)}(w^{T}x^{(i)} + b) \\ge 1; \\forall i \\in \\{1,2,\\dots,m\\}\n",
    "\\end{array}$$\n",
    "\n",
    "To get the soft margin objective, we need to introduce a slack variable $\\zeta^{(i)} \\ge 0$ for each instance. $\\zeta^{(i)}$ measures how much the i-th instance is allowed to violate the margin.\n",
    "\n",
    "We now have two conflicting objectives, Make the slack variables as small as possible to reduce the margin violations, and make $\\frac{1}{2}w^{T}w$ as small as possible to increase the margin. \n",
    "\n",
    "This is where the $C$ hyper-parameter comes in: It allows to define the tradeoff between these two objectives. This gives us the following contrained optimization problem for Softmargin Linear SVM Classifier Objective:\n",
    "    \n",
    "$$\\begin{array}{ll}\n",
    "\\text{minimize}_{(w,b,\\zeta)}  & \\frac{1}{2}w^{T}w + C\\sum_{i=1}^{m}\\zeta^{(i)} \\\\\n",
    "\\text{subject to}& t^{(i)}(w^{T}x^{(i)} + b) \\ge 1 - \\zeta^{(i)}; \\zeta^{(i)} \\ge 0 \\; \\forall i \\in \\{1,2,\\dots,m\\}\n",
    "\\end{array}$$"
   ]
  },
  {
   "cell_type": "markdown",
   "metadata": {},
   "source": [
    "### Quadratic Programming\n",
    "\n",
    "The hard/soft margin problems are both quadratic optimization problems with linear constraints. Such problems are known as *Quadratic Programming* (QP) problems.\n",
    "\n",
    "One way to train a hard margin linear SVM classifier is to use an off-the-shelf QP Solver and pass it our parameters. We can also use a Quadratic Solver to train for the soft margin linear SVM classifier.\n",
    "\n",
    "To use the kernel trick though, we're going to take a look at a different optimization problem:"
   ]
  },
  {
   "cell_type": "markdown",
   "metadata": {},
   "source": [
    "### The Dual Problem\n",
    "\n",
    "Given a constrained optimization problem (Primal problem) it is possible to express a different but closely related problem (dual problem).\n",
    "\n",
    "The solution to the dual problem typically gives a lower bound to the solution of the primal problem, but under some conditions it may have the same solution as the primal problem. Luckily, the SVM problem happens to meet these conditions.\n",
    "\n",
    "Here is the dual problem formulation for the SVM Linear classification optimization problem:\n",
    "\n",
    "$$\\begin{array}{ll}\n",
    "\\text{minimize}_{(\\alpha)}  & \\frac{1}{2}\\sum_{i=1}^{m}\\sum_{j=1}^{m}\\alpha^{(i)}\\alpha^{(j)}t^{(i)}t^{(j)}{x^{(i)}}^{T}x^{(j)} - \\sum_{i=1}^{m}\\alpha^{(i)} \\\\\n",
    "\\text{subject to}& \\alpha^{(i)} \\ge 0; \\forall i \\in \\{1,2,\\dots,m\\}\n",
    "\\end{array}$$\n",
    "\n",
    "Once we find the solution $\\hat{\\alpha}$ to the previous problem, we use the following to calculate its corresponding $\\hat{w}$ abd $\\hat{b}$:\n",
    "\n",
    "$$\\hat{w}=\\sum_{i=1}^{m}\\hat{w}^{(i)}t^{(i)}x^{(i)} \\\\ \\hat{b} = \\frac{1}{n_s} \\sum_{i=1}^{m}(t^{(i)} - \\hat{w}^{T}x^{(i)})$$\n",
    "\n",
    "The dual problem is faster to solve when the number of instances is less then the number of features. More importantly, the dual problem makes the kernel trick possible while the primal problem does not, so what is the kernel trick anyway?"
   ]
  },
  {
   "cell_type": "markdown",
   "metadata": {},
   "source": [
    "### Kernelized SVMs\n",
    "\n",
    "If we apply the transformation $\\phi$ to all training instances, then the dual problem will contain the dot product $\\phi(x^{(i)})^{T}\\phi(x^{(j)})$. But if $\\phi$ is the second degree polynomial transformation then we can replace $\\phi(x^{(i)})^{T}\\phi(x^{(j)})$ with $({x^{(i)}}^{T}x^{(j)})^{2}$. Meaning, **We don't need to transform the instances at all** (this trick makes for a much simpler computation).\n",
    "\n",
    "The function $K(a,b)=(a^{T}b)^{2}$ is a 2nd degree polynomial kernel. In ML, a kernel is a function capable of computing $\\phi(a)^{T}\\phi(b)$ based only on the original vectors $a$ and $b$ without having to compute the original transformation $\\phi$\n",
    "\n",
    "In the case of the gaussian RBF kernel: $K(a,b)=exp(-\\gamma||a-b||^{2})$, It can be shown that $\\phi$ maps each instance to an infinite dimensional space, so it's a good thing we don't actually need to perform the mapping."
   ]
  },
  {
   "cell_type": "markdown",
   "metadata": {},
   "source": [
    "### Online SVMs\n",
    "\n",
    "We should remember that online learning means learning incrementally, as new instances arrive. For linear SVMs classifiers, one way to implement online learning is through gradient descent to minimize the cost function derived from the primal objective. Unfortunately, GD converges much slower than the QP methods.\n",
    "\n",
    "For large-scale non-linear problems, we may want to consider using neural networks instead.\n",
    "\n",
    "---"
   ]
  },
  {
   "cell_type": "markdown",
   "metadata": {},
   "source": [
    "# **Exercices**"
   ]
  },
  {
   "cell_type": "markdown",
   "metadata": {},
   "source": [
    "**1. What is the Fundamental Idea Behind Support Vector Machines**\n",
    "\n",
    "For classification, The premise of SVMs is finding decision boundaries that maximize relative distance between them and points and minimize the number of violations in the supporting street.\n",
    "\n",
    "For regression, the opposite is true, SVMs optimize for a street the is as close as possible to the training instances, violations in this case represent the data points that are \"outside\" of the street."
   ]
  },
  {
   "cell_type": "markdown",
   "metadata": {},
   "source": [
    "**2. What is a Support Vector**\n",
    "\n",
    "A Support vector represents the training instance that is used to create a boundary of the street, hence it's considered a \"support\" for it. Any instance that is not a support vector has no influence whatsoever on the decision boundary."
   ]
  },
  {
   "cell_type": "markdown",
   "metadata": {},
   "source": [
    "**3. Why is It Important to Scale the Input when using SVMs**\n",
    "\n",
    "A proparly scaled feature space will create empty space for the SVM model to be optimized to split it. If the feature space is not scaled, the algorithm will tend to ignore features with small scales."
   ]
  },
  {
   "cell_type": "markdown",
   "metadata": {},
   "source": [
    "**4. Can an SVM classifier output a confidence score when it classifies an instance? How about a probability?**\n",
    "\n",
    "SVM model can output confidence scores based on the distance from the instance to the decision boundary. However, SVMs can't really output a probability score.\n",
    "\n",
    "Note: we could estimate probability scores using `sklearn`'s hyper-parameters."
   ]
  },
  {
   "cell_type": "markdown",
   "metadata": {},
   "source": [
    "**5. Should You Use the Primal or the Dual form of the SVM problem to train a model on a training set with millions of instances and hundreds of features?**\n",
    "\n",
    "It's better to use the Primal form of the SVM problem because the Dual form is only faster when the number of features is more than the number of instances."
   ]
  },
  {
   "cell_type": "markdown",
   "metadata": {},
   "source": [
    "**6. Say you've trained an SVM classifier with the RBF Kernel, but it seems to underfit the training data, should you increase or decrease $\\gamma$? How about $C$?**\n",
    "\n",
    "Increasing $\\gamma$ and $C$ is good because it will increase model sensitivity."
   ]
  },
  {
   "cell_type": "markdown",
   "metadata": {},
   "source": [
    "**7. How you should set the QP parameters ($H$, $f$, $A$, and $b$) to solve the soft margin linear SVM classifier problem using an off-the-shelf QP solver?**\n",
    "\n",
    "The general formulation of a quadratic programming problem is as follows:\n",
    "\n",
    "$$\\begin{array}{ll}\n",
    "\\text{minimize}_{p} & \\frac{1}{2}p^THp + f^Tp \\\\\n",
    "\\text{subject to} & Ap \\le b\n",
    "\\end{array}$$\n",
    "\n",
    "Where:\n",
    "\n",
    "$$\\begin{cases}\n",
    "p \\in \\Bbb{R}^{n_p \\times 1} \\qquad n_p: parameter \\space count \\\\\n",
    "H \\in \\Bbb{R}^{n_p \\times n_p} \\\\\n",
    "f \\in \\Bbb{R}^{n_p \\times 1} \\\\\n",
    "A \\in \\Bbb{R}^{n_c \\times n_p} \\qquad n_c: constraints \\space count \\\\\n",
    "\\end{cases}$$\n",
    "\n",
    "Let's consider $H'$, $f'$, $A'$ and $b'$. The parameters for the soft margin SVM problem form are:\n",
    "\n",
    "$$f=[f' \\underbrace{C\\cdots C}_{m\\text{ times}}] \\\\ b=[b' \\quad \\underbrace{0\\cdots 0}_{m\\text{ times}}] \\\\ p=[\\underbrace{w}_{n+1 \\text{ times}} \\quad \\underbrace{\\zeta}_{m \\text{ times}}] \\\\ A=\\begin{pmatrix} A' & I_m \\\\ 0 & -I_m \\end{pmatrix} \\\\ H=\\begin{pmatrix} H' & 0 \\\\ 0 & 0 \\end{pmatrix} $$"
   ]
  },
  {
   "cell_type": "markdown",
   "metadata": {},
   "source": [
    "**8. Train a `LinearSVC` on a Linearly Separable Dataset. Then train an `SVC` & a `SGDClassifier` on the same dataset. See if you can get them to produce roughly the same model**"
   ]
  },
  {
   "cell_type": "code",
   "execution_count": 25,
   "metadata": {},
   "outputs": [],
   "source": [
    "from sklearn.svm import LinearSVC, SVC\n",
    "from sklearn.linear_model import SGDClassifier\n",
    "import matplotlib.pyplot as plt"
   ]
  },
  {
   "cell_type": "markdown",
   "metadata": {},
   "source": [
    "Let's first generate linearly separable data:"
   ]
  },
  {
   "cell_type": "code",
   "execution_count": 26,
   "metadata": {},
   "outputs": [
    {
     "data": {
      "text/plain": [
       "((500, 3), (500, 3))"
      ]
     },
     "execution_count": 26,
     "metadata": {},
     "output_type": "execute_result"
    }
   ],
   "source": [
    "d1 = np.concatenate((np.random.normal(loc=6, scale=1, size=(500, 2)), np.ones((500, 1))), axis=1) \n",
    "d2 = np.concatenate((np.random.normal(loc=3, scale=1, size=(500, 2)), np.zeros((500, 1))), axis=1) \n",
    "d1.shape, d2.shape"
   ]
  },
  {
   "cell_type": "code",
   "execution_count": 27,
   "metadata": {},
   "outputs": [
    {
     "data": {
      "image/png": "[encoded data removed]",
      "text/plain": [
       "<Figure size 432x288 with 1 Axes>"
      ]
     },
     "metadata": {
      "needs_background": "light"
     },
     "output_type": "display_data"
    }
   ],
   "source": [
    "plt.scatter(d1[:,0], d1[:,1], c='red')\n",
    "plt.scatter(d2[:,0], d2[:,1], c='blue')\n",
    "plt.xlabel('x1')\n",
    "plt.ylabel('x2')\n",
    "plt.title('Synthetic 2D Points')\n",
    "plt.xlim(0, 10)\n",
    "plt.ylim(0, 10)\n",
    "plt.show()"
   ]
  },
  {
   "cell_type": "markdown",
   "metadata": {},
   "source": [
    "Next, we combine and shuffle the data:"
   ]
  },
  {
   "cell_type": "code",
   "execution_count": 28,
   "metadata": {},
   "outputs": [
    {
     "data": {
      "text/plain": [
       "(1000, 3)"
      ]
     },
     "execution_count": 28,
     "metadata": {},
     "output_type": "execute_result"
    }
   ],
   "source": [
    "d = np.concatenate((d1,d2), axis=0)\n",
    "d.shape"
   ]
  },
  {
   "cell_type": "code",
   "execution_count": 29,
   "metadata": {},
   "outputs": [],
   "source": [
    "np.random.shuffle(d)"
   ]
  },
  {
   "cell_type": "markdown",
   "metadata": {},
   "source": [
    "Time for training:"
   ]
  },
  {
   "cell_type": "code",
   "execution_count": 30,
   "metadata": {},
   "outputs": [],
   "source": [
    "model = LinearSVC()"
   ]
  },
  {
   "cell_type": "code",
   "execution_count": 31,
   "metadata": {},
   "outputs": [],
   "source": [
    "from sklearn.model_selection import train_test_split"
   ]
  },
  {
   "cell_type": "code",
   "execution_count": 32,
   "metadata": {},
   "outputs": [],
   "source": [
    "X_train, X_test, y_train, y_test =  train_test_split(d[:,:2], d[:,2:], test_size=0.2)"
   ]
  },
  {
   "cell_type": "code",
   "execution_count": 33,
   "metadata": {},
   "outputs": [
    {
     "data": {
      "text/plain": [
       "((800, 2), (200, 2), (800, 1), (200, 1))"
      ]
     },
     "execution_count": 33,
     "metadata": {},
     "output_type": "execute_result"
    }
   ],
   "source": [
    "X_train.shape, X_test.shape, y_train.shape, y_test.shape"
   ]
  },
  {
   "cell_type": "code",
   "execution_count": 34,
   "metadata": {},
   "outputs": [
    {
     "data": {
      "text/plain": [
       "LinearSVC(C=1.0, class_weight=None, dual=True, fit_intercept=True,\n",
       "          intercept_scaling=1, loss='squared_hinge', max_iter=1000,\n",
       "          multi_class='ovr', penalty='l2', random_state=None, tol=0.0001,\n",
       "          verbose=0)"
      ]
     },
     "execution_count": 34,
     "metadata": {},
     "output_type": "execute_result"
    }
   ],
   "source": [
    "model.fit(X_train, y_train.ravel())"
   ]
  },
  {
   "cell_type": "code",
   "execution_count": 35,
   "metadata": {},
   "outputs": [
    {
     "data": {
      "text/plain": [
       "1.0"
      ]
     },
     "execution_count": 35,
     "metadata": {},
     "output_type": "execute_result"
    }
   ],
   "source": [
    "model.score(X_test, y_test)"
   ]
  },
  {
   "cell_type": "markdown",
   "metadata": {},
   "source": [
    "Let's plot its decision boundary:"
   ]
  },
  {
   "cell_type": "code",
   "execution_count": 36,
   "metadata": {},
   "outputs": [
    {
     "data": {
      "image/png": "[encoded data removed]",
      "text/plain": [
       "<Figure size 864x576 with 1 Axes>"
      ]
     },
     "metadata": {
      "needs_background": "light"
     },
     "output_type": "display_data"
    }
   ],
   "source": [
    "plt.figure(figsize=(12,8))\n",
    "# Points\n",
    "plt.scatter(d1[:,0], d1[:,1], c='red', s=7)\n",
    "plt.scatter(d2[:,0], d2[:,1], c='blue', s=7)\n",
    "# Decision boundaries\n",
    "w = model.coef_[0]\n",
    "a = -w[0] / w[1]\n",
    "xx = np.linspace(0, 10)\n",
    "yy = a * xx - (model.intercept_[0]) / w[1]\n",
    "plt.plot(xx, yy, 'k-')\n",
    "# Other\n",
    "plt.xlabel('x1')\n",
    "plt.ylabel('x2')\n",
    "plt.title('Synthetic 2D Points')\n",
    "plt.xlim(0, 10)\n",
    "plt.ylim(0, 10)\n",
    "plt.show()"
   ]
  },
  {
   "cell_type": "markdown",
   "metadata": {},
   "source": [
    "Next, let's try `SVC` & contrain it to approximate the linear classifier:"
   ]
  },
  {
   "cell_type": "code",
   "execution_count": 37,
   "metadata": {},
   "outputs": [],
   "source": [
    "C = 99.\n",
    "svc_clf = SVC(C=C, kernel='linear', degree=1, gamma='auto')"
   ]
  },
  {
   "cell_type": "code",
   "execution_count": 38,
   "metadata": {},
   "outputs": [
    {
     "data": {
      "text/plain": [
       "SVC(C=99.0, cache_size=200, class_weight=None, coef0=0.0,\n",
       "    decision_function_shape='ovr', degree=1, gamma='auto', kernel='linear',\n",
       "    max_iter=-1, probability=False, random_state=None, shrinking=True,\n",
       "    tol=0.001, verbose=False)"
      ]
     },
     "execution_count": 38,
     "metadata": {},
     "output_type": "execute_result"
    }
   ],
   "source": [
    "svc_clf.fit(X_train, y_train.ravel())"
   ]
  },
  {
   "cell_type": "code",
   "execution_count": 39,
   "metadata": {},
   "outputs": [
    {
     "data": {
      "text/plain": [
       "1.0"
      ]
     },
     "execution_count": 39,
     "metadata": {},
     "output_type": "execute_result"
    }
   ],
   "source": [
    "svc_clf.score(X_test, y_test)"
   ]
  },
  {
   "cell_type": "code",
   "execution_count": 40,
   "metadata": {},
   "outputs": [],
   "source": [
    "h = .02 \n",
    "x_min, x_max = d[:,0].min() - 1, d[:,0].max() + 1\n",
    "y_min, y_max = d[:,1].min() - 1, d[:,1].max() + 1\n",
    "xx, yy = np.meshgrid(np.arange(x_min, x_max, h),\n",
    "                     np.arange(y_min, y_max, h))"
   ]
  },
  {
   "cell_type": "code",
   "execution_count": 41,
   "metadata": {},
   "outputs": [],
   "source": [
    "Z = svc_clf.predict(np.c_[xx.ravel(), yy.ravel()])\n",
    "Z = Z.reshape(xx.shape)"
   ]
  },
  {
   "cell_type": "code",
   "execution_count": 42,
   "metadata": {},
   "outputs": [
    {
     "data": {
      "image/png": "[encoded data removed]",
      "text/plain": [
       "<Figure size 864x576 with 1 Axes>"
      ]
     },
     "metadata": {
      "needs_background": "light"
     },
     "output_type": "display_data"
    }
   ],
   "source": [
    "plt.figure(figsize=(12,8))\n",
    "# Points\n",
    "plt.scatter(d1[:,0], d1[:,1], c='red', s=7)\n",
    "plt.scatter(d2[:,0], d2[:,1], c='blue', s=7)\n",
    "# Decision boundary\n",
    "plt.contour(xx, yy, Z, cmap=plt.cm.Paired)\n",
    "# Other\n",
    "plt.xlabel('x1')\n",
    "plt.ylabel('x2')\n",
    "plt.title('Synthetic 2D Points')\n",
    "plt.xlim(0, 10)\n",
    "plt.ylim(0, 10)\n",
    "plt.show()"
   ]
  },
  {
   "cell_type": "markdown",
   "metadata": {},
   "source": [
    "To have a similar classifier, we needed to specify the kernel parameter as `linear` and the degree parameter as $1$.\n",
    "\n",
    "Finally, let's try to do the same to `SGDClassifier`:"
   ]
  },
  {
   "cell_type": "code",
   "execution_count": 43,
   "metadata": {},
   "outputs": [],
   "source": [
    "sgd_clf = SGDClassifier()"
   ]
  },
  {
   "cell_type": "code",
   "execution_count": 44,
   "metadata": {},
   "outputs": [
    {
     "data": {
      "text/plain": [
       "SGDClassifier(alpha=0.0001, average=False, class_weight=None,\n",
       "              early_stopping=False, epsilon=0.1, eta0=0.0, fit_intercept=True,\n",
       "              l1_ratio=0.15, learning_rate='optimal', loss='hinge',\n",
       "              max_iter=1000, n_iter_no_change=5, n_jobs=None, penalty='l2',\n",
       "              power_t=0.5, random_state=None, shuffle=True, tol=0.001,\n",
       "              validation_fraction=0.1, verbose=0, warm_start=False)"
      ]
     },
     "execution_count": 44,
     "metadata": {},
     "output_type": "execute_result"
    }
   ],
   "source": [
    "sgd_clf.fit(X_train, y_train.ravel())"
   ]
  },
  {
   "cell_type": "code",
   "execution_count": 45,
   "metadata": {},
   "outputs": [
    {
     "data": {
      "text/plain": [
       "1.0"
      ]
     },
     "execution_count": 45,
     "metadata": {},
     "output_type": "execute_result"
    }
   ],
   "source": [
    "sgd_clf.score(X_test, y_test)"
   ]
  },
  {
   "cell_type": "code",
   "execution_count": 46,
   "metadata": {},
   "outputs": [],
   "source": [
    "h = .02 \n",
    "x_min, x_max = d[:,0].min() - 1, d[:,0].max() + 1\n",
    "y_min, y_max = d[:,1].min() - 1, d[:,1].max() + 1\n",
    "xx, yy = np.meshgrid(np.arange(x_min, x_max, h),\n",
    "                     np.arange(y_min, y_max, h))"
   ]
  },
  {
   "cell_type": "code",
   "execution_count": 47,
   "metadata": {},
   "outputs": [],
   "source": [
    "Z = sgd_clf.predict(np.c_[xx.ravel(), yy.ravel()])\n",
    "Z = Z.reshape(xx.shape)"
   ]
  },
  {
   "cell_type": "code",
   "execution_count": 48,
   "metadata": {},
   "outputs": [
    {
     "data": {
      "image/png": "[encoded data removed]",
      "text/plain": [
       "<Figure size 864x576 with 1 Axes>"
      ]
     },
     "metadata": {
      "needs_background": "light"
     },
     "output_type": "display_data"
    }
   ],
   "source": [
    "plt.figure(figsize=(12,8))\n",
    "# Points\n",
    "plt.scatter(d1[:,0], d1[:,1], c='red', s=7)\n",
    "plt.scatter(d2[:,0], d2[:,1], c='blue', s=7)\n",
    "# Decision boundary\n",
    "plt.contour(xx, yy, Z, cmap=plt.cm.Paired)\n",
    "# Other\n",
    "plt.xlabel('x1')\n",
    "plt.ylabel('x2')\n",
    "plt.title('Synthetic 2D Points')\n",
    "plt.xlim(0, 10)\n",
    "plt.ylim(0, 10)\n",
    "plt.show()"
   ]
  },
  {
   "cell_type": "markdown",
   "metadata": {},
   "source": [
    "`SGDClassifier`s are just regular **linear** classifiers trained using Stochastic Gradient Descent, so we get what we want without regularization."
   ]
  },
  {
   "cell_type": "markdown",
   "metadata": {},
   "source": [
    "**9. Train an SVM classifier on the MNIST dataset. Since SVM classifiers are binary classifiers, you will need to use one-versus-rest to classify all 10 digits. You may want to tune the hyper-parameters using small validation sets to speed up the process. What accuracy can you reach?**"
   ]
  },
  {
   "cell_type": "code",
   "execution_count": 49,
   "metadata": {},
   "outputs": [],
   "source": [
    "from sklearn import datasets"
   ]
  },
  {
   "cell_type": "code",
   "execution_count": 50,
   "metadata": {},
   "outputs": [],
   "source": [
    "X, y = datasets.fetch_openml(name='mnist_784', return_X_y=True)"
   ]
  },
  {
   "cell_type": "code",
   "execution_count": 51,
   "metadata": {},
   "outputs": [],
   "source": [
    "X_train, X_test, y_train, y_test = train_test_split(X, y, test_size=0.33)"
   ]
  },
  {
   "cell_type": "code",
   "execution_count": 52,
   "metadata": {},
   "outputs": [
    {
     "data": {
      "text/plain": [
       "((46900, 784), (23100, 784), (46900,), (23100,))"
      ]
     },
     "execution_count": 52,
     "metadata": {},
     "output_type": "execute_result"
    }
   ],
   "source": [
    "X_train.shape, X_test.shape, y_train.shape, y_test.shape"
   ]
  },
  {
   "cell_type": "markdown",
   "metadata": {},
   "source": [
    "We will use cross-validation to optimize hyper-parameters:"
   ]
  },
  {
   "cell_type": "code",
   "execution_count": 53,
   "metadata": {},
   "outputs": [],
   "source": [
    "from sklearn.multiclass import OneVsRestClassifier\n",
    "from sklearn.model_selection import cross_val_score"
   ]
  },
  {
   "cell_type": "code",
   "execution_count": 64,
   "metadata": {},
   "outputs": [],
   "source": [
    "clf = OneVsRestClassifier(estimator=SVC(gamma='auto'))"
   ]
  },
  {
   "cell_type": "code",
   "execution_count": 67,
   "metadata": {},
   "outputs": [],
   "source": [
    "scores = cross_val_score(estimator=clf, X=X_train[:1000]/255., y=y_train[:1000], cv=7)"
   ]
  },
  {
   "cell_type": "code",
   "execution_count": 68,
   "metadata": {},
   "outputs": [
    {
     "name": "stdout",
     "output_type": "stream",
     "text": [
      "We reach an accuracy of 0.7790821178640356\n"
     ]
    }
   ],
   "source": [
    "print(f\"We reach an accuracy of {sum(scores)/len(scores)}\")"
   ]
  },
  {
   "cell_type": "markdown",
   "metadata": {},
   "source": [
    "**10. Train an SVM Regressor on the California Housing Dataset**"
   ]
  },
  {
   "cell_type": "code",
   "execution_count": 69,
   "metadata": {},
   "outputs": [],
   "source": [
    "from sklearn.svm import SVR"
   ]
  },
  {
   "cell_type": "code",
   "execution_count": 72,
   "metadata": {},
   "outputs": [
    {
     "data": {
      "text/plain": [
       "((20640, 8), (20640,))"
      ]
     },
     "execution_count": 72,
     "metadata": {},
     "output_type": "execute_result"
    }
   ],
   "source": [
    "X, y = datasets.california_housing.fetch_california_housing(return_X_y=True)\n",
    "X.shape, y.shape"
   ]
  },
  {
   "cell_type": "code",
   "execution_count": 79,
   "metadata": {},
   "outputs": [],
   "source": [
    "X_train, X_val, y_train, y_val = train_test_split(X, y, test_size=0.33)"
   ]
  },
  {
   "cell_type": "code",
   "execution_count": 80,
   "metadata": {},
   "outputs": [],
   "source": [
    "from sklearn.preprocessing import StandardScaler"
   ]
  },
  {
   "cell_type": "markdown",
   "metadata": {},
   "source": [
    "First we scale:"
   ]
  },
  {
   "cell_type": "code",
   "execution_count": 81,
   "metadata": {},
   "outputs": [],
   "source": [
    "scaler = StandardScaler()"
   ]
  },
  {
   "cell_type": "code",
   "execution_count": 82,
   "metadata": {},
   "outputs": [],
   "source": [
    "X_train = scaler.fit_transform(X_train)"
   ]
  },
  {
   "cell_type": "code",
   "execution_count": 84,
   "metadata": {},
   "outputs": [],
   "source": [
    "regressor = SVR()"
   ]
  },
  {
   "cell_type": "code",
   "execution_count": 85,
   "metadata": {},
   "outputs": [
    {
     "data": {
      "text/plain": [
       "SVR(C=1.0, cache_size=200, coef0=0.0, degree=3, epsilon=0.1,\n",
       "    gamma='auto_deprecated', kernel='rbf', max_iter=-1, shrinking=True,\n",
       "    tol=0.001, verbose=False)"
      ]
     },
     "execution_count": 85,
     "metadata": {},
     "output_type": "execute_result"
    }
   ],
   "source": [
    "regressor.fit(X_train, y_train)"
   ]
  },
  {
   "cell_type": "code",
   "execution_count": 88,
   "metadata": {},
   "outputs": [
    {
     "data": {
      "text/plain": [
       "0.7225873526604307"
      ]
     },
     "execution_count": 88,
     "metadata": {},
     "output_type": "execute_result"
    }
   ],
   "source": [
    "regressor.score(scaler.transform(X_val), y_val)"
   ]
  },
  {
   "cell_type": "markdown",
   "metadata": {},
   "source": [
    "---"
   ]
  }
 ],
 "metadata": {
  "kernelspec": {
   "display_name": "Python 3",
   "language": "python",
   "name": "python3"
  },
  "language_info": {
   "codemirror_mode": {
    "name": "ipython",
    "version": 3
   },
   "file_extension": ".py",
   "mimetype": "text/x-python",
   "name": "python",
   "nbconvert_exporter": "python",
   "pygments_lexer": "ipython3",
   "version": "3.8.6"
  }
 },
 "nbformat": 4,
 "nbformat_minor": 4
}
